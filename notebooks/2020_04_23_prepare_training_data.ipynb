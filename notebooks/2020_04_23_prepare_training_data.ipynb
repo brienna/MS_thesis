{
 "cells": [
  {
   "cell_type": "markdown",
   "metadata": {},
   "source": [
    "# Prepare training data"
   ]
  },
  {
   "cell_type": "markdown",
   "metadata": {},
   "source": [
    "This notebook prepares the corpus of papers that we will use in training models. \n",
    "\n",
    "The metadata is from __, and it helps us filter which papers we will use in our training corpus.\n",
    "\n",
    "**Table of Contents:**\n",
    "1. Filter papers based on subdomain labelling\n",
    "2. Prepare abstract corpus\n",
    "3. Prepare full-text corpus"
   ]
  },
  {
   "cell_type": "markdown",
   "metadata": {},
   "source": [
    "Load dependencies."
   ]
  },
  {
   "cell_type": "code",
   "execution_count": 101,
   "metadata": {},
   "outputs": [],
   "source": [
    "import pandas as pd\n",
    "from gensim.models.doc2vec import Doc2Vec, TaggedDocument\n",
    "import gensim\n",
    "import re\n",
    "import inflect\n",
    "import matplotlib.pyplot as plt\n",
    "import numpy as np\n",
    "import scipy\n",
    "from math import floor\n",
    "from random import shuffle"
   ]
  },
  {
   "cell_type": "markdown",
   "metadata": {},
   "source": [
    "## 1. Filter papers based on subdomain labelling"
   ]
  },
  {
   "cell_type": "markdown",
   "metadata": {},
   "source": [
    "Each paper has author-assigned labels. Some of these labels are subdomains of astrophysics, in addition to the generic astrophysics category as well as other domain-level categories. \n",
    "\n",
    "Subdomains:\n",
    "1. Solar and Stellar Astrophysics\n",
    "2. Cosmology and Nongalactic Astrophysics\n",
    "3. Astrophysics of Galaxies\n",
    "4. High Energy Astrophysical Phenomena\n",
    "5. Earth and Planetary Astrophysics\n",
    "6. Instrumentation and Methods for Astrophysics\n",
    "\n",
    "Find each paper's astrophysics subdomain. If it has none, remove it from the data. "
   ]
  },
  {
   "cell_type": "code",
   "execution_count": 79,
   "metadata": {},
   "outputs": [
    {
     "name": "stdout",
     "output_type": "stream",
     "text": [
      "Total number of papers: 267794\n",
      "\n",
      "We are keeping only papers that have been labeled with any of the following 6 subdomains:\n",
      "dict_values(['Solar and Stellar Astrophysics', 'Cosmology and Nongalactic Astrophysics', 'Astrophysics of Galaxies', 'High Energy Astrophysical Phenomena', 'Earth and Planetary Astrophysics', 'Instrumentation and Methods for Astrophysics'])\n",
      "\n",
      "Number of papers without subdomain labels: 105283\n"
     ]
    }
   ],
   "source": [
    "metadata = pd.read_csv('../data/2020_03_06_arxiv_metadata_astroph/arxiv_metadata_astroph.csv',\n",
    "                       dtype={'filename': str,\n",
    "                              'filename_parsed': str,\n",
    "                              'identifier': str,\n",
    "                              'updated': str,\n",
    "                              'doi': str}, \n",
    "                       parse_dates=['date_retrieved'])\n",
    "\n",
    "print('Total number of papers: ' + str(len(metadata)))\n",
    "\n",
    "# Specify the subdomains we want to target \n",
    "subdomains = {'astro-ph.SR': 'Solar and Stellar Astrophysics',\n",
    "              'astro-ph.CO': 'Cosmology and Nongalactic Astrophysics',\n",
    "              'astro-ph.GA': 'Astrophysics of Galaxies',\n",
    "              'astro-ph.HE': 'High Energy Astrophysical Phenomena',\n",
    "              'astro-ph.EP': 'Earth and Planetary Astrophysics',\n",
    "              'astro-ph.IM': 'Instrumentation and Methods for Astrophysics'}\n",
    "\n",
    "print('\\nWe are keeping only papers that have been labeled with any of the following ' \n",
    "      + str(len(subdomains.keys())) + ' subdomains:\\n' + str(subdomains.values()))\n",
    "\n",
    "labels = metadata['categories'].str.split(' ')        # Get all labels for each paper\n",
    "subdomain_labels = []     \n",
    "\n",
    "for i, _ in enumerate(labels):                         # For each paper,\n",
    "    temp = []                                          # create a temporary list of subdomain labels and\n",
    "    has_subdomain_label = False                        # state that the paper has no subdomain labels yet\n",
    "    for j,_ in enumerate(labels[i]):                   # For each of the paper's labels,\n",
    "        if labels[i][j] in subdomains.keys():                 # if the paper has a subdomain label\n",
    "            temp.append(labels[i][j])                  # add the subdomain label to that paper's subdomain labels list\n",
    "            has_subdomain_label = True                 # and mark that the paper has at least one subdomain label\n",
    "            \n",
    "        if j == (len(labels[i]) - 1):                  # When done looking at the last label for that paper,\n",
    "            if not has_subdomain_label:                # if that paper had no subdomain labels,\n",
    "                subdomain_labels.append(None)          # add none to the master list\n",
    "            else:                \n",
    "                subdomain_labels.append(temp)          # otherwise note its subdomain labels \n",
    "                \n",
    "metadata['subdomains'] = subdomain_labels\n",
    "papers_with_no_subdomains = np.where(metadata['subdomains'].isna())[0]\n",
    "print('\\nNumber of papers without subdomain labels: ' + str(len(papers_with_no_subdomains)))"
   ]
  },
  {
   "cell_type": "markdown",
   "metadata": {},
   "source": [
    "Our corpus has a total of 267,794 papers. We are going to drop 105,283 papers, because they do not have any astrophysics subdomain labels. \n",
    "\n",
    "Will this change the distribution of years?"
   ]
  },
  {
   "cell_type": "code",
   "execution_count": 6,
   "metadata": {},
   "outputs": [
    {
     "data": {
      "image/png": "[encoded data removed]",
      "text/plain": [
       "<Figure size 1152x504 with 1 Axes>"
      ]
     },
     "metadata": {
      "needs_background": "light"
     },
     "output_type": "display_data"
    }
   ],
   "source": [
    "years = pd.to_datetime(metadata['created']).apply(lambda x: x.year)\n",
    "years_filtered = years.drop(papers_with_no_subdomains)\n",
    "years_count = years.value_counts()\n",
    "years_filtered_count = years_filtered.value_counts()\n",
    "\n",
    "plt.figure(figsize=(16,7))\n",
    "plt.bar(years_count.keys(), years_count.values, color='lightgray')\n",
    "plt.bar(years_filtered_count.keys(), years_filtered_count.values, color='darkgray')\n",
    "plt.title('Number of papers per year')\n",
    "plt.show()"
   ]
  },
  {
   "cell_type": "markdown",
   "metadata": {},
   "source": [
    "Looks like in 2009 they realized they should add finer granularity to the field, and introduced subdomain labels then.\n",
    "\n",
    "A few papers were labeled with astrophysics subdomains in 2007, 2008, etc, but probably because their papers were revised 2009> and the authors had the option to add labels then. \n",
    "\n",
    "Check whether there are any papers in or after 2009 that DON'T have subdomain labels."
   ]
  },
  {
   "cell_type": "code",
   "execution_count": 7,
   "metadata": {
    "scrolled": true
   },
   "outputs": [
    {
     "data": {
      "text/plain": [
       "False"
      ]
     },
     "execution_count": 7,
     "metadata": {},
     "output_type": "execute_result"
    }
   ],
   "source": [
    "any(years.take(papers_with_no_subdomains).value_counts().keys() >= 2009)"
   ]
  },
  {
   "cell_type": "markdown",
   "metadata": {},
   "source": [
    "ALL papers in or after 2009 have subdomain labels, so we will include in our corpus papers from 2009-2019. \n",
    "\n",
    "**Get abstracts and remove all that are outside 2009-2019.**\n",
    "\n",
    "Since there are no papers within 2009-2019 that didn't have subdomain labels, we can just select all the papers within this range. \n",
    "\n",
    "Set this range to be used when we filter abstracts and full-texts."
   ]
  },
  {
   "cell_type": "code",
   "execution_count": 8,
   "metadata": {},
   "outputs": [
    {
     "name": "stdout",
     "output_type": "stream",
     "text": [
      "Number of papers outside 2009-2019: 108178\n",
      "Number of papers within 2009-2019: 159616\n"
     ]
    }
   ],
   "source": [
    "papers_out_of_range = [i for i, isInRange in enumerate(years.apply(lambda x: x < 2009 or x > 2019)) if isInRange]\n",
    "print('Number of papers outside 2009-2019: ' + str(len(papers_out_of_range)))\n",
    "print('Number of papers within 2009-2019: ' + str(len(metadata) - len(papers_out_of_range)))"
   ]
  },
  {
   "cell_type": "markdown",
   "metadata": {},
   "source": [
    "We have 159,616 papers that qualify for our corpus, based just on the fact that they have astrophysics subdomain labels.\n",
    "\n",
    "Visualize the subdomain distribution within our corpus."
   ]
  },
  {
   "cell_type": "code",
   "execution_count": 11,
   "metadata": {},
   "outputs": [
    {
     "data": {
      "image/png": "[encoded data removed]",
      "text/plain": [
       "<Figure size 1152x504 with 1 Axes>"
      ]
     },
     "metadata": {
      "needs_background": "light"
     },
     "output_type": "display_data"
    }
   ],
   "source": [
    "subdomain_distribution = pd.Series([subdomain for subdomains in metadata['subdomains'].drop(papers_out_of_range) for subdomain in subdomains]).value_counts()\n",
    "\n",
    "plt.figure(figsize=(16,7))\n",
    "plt.bar(subdomain_distribution.keys(), subdomain_distribution.values, color='lightgray')\n",
    "plt.title('Number of papers in each subdomain', fontdict=dict(size=22))\n",
    "plt.text(4.5, 50000, str(len(abstracts)) + ' papers', size=14, color='darkgray')\n",
    "plt.show()"
   ]
  },
  {
   "cell_type": "markdown",
   "metadata": {},
   "source": [
    "## Prepare abstract corpus"
   ]
  },
  {
   "cell_type": "markdown",
   "metadata": {},
   "source": [
    "Get abstracts for the 159,616 papers that we are keeping in our corpus. Abstracts are stored in the metadata file."
   ]
  },
  {
   "cell_type": "code",
   "execution_count": 10,
   "metadata": {},
   "outputs": [
    {
     "data": {
      "text/plain": [
       "159616"
      ]
     },
     "execution_count": 10,
     "metadata": {},
     "output_type": "execute_result"
    }
   ],
   "source": [
    "abstracts = [abstract.replace('\\n', ' ').strip() for abstract in metadata['abstract'].drop(papers_out_of_range)]\n",
    "abstracts_unfiltered = [abstract.replace('\\n', ' ').strip() for abstract in metadata['abstract']]\n",
    "len(abstracts)"
   ]
  },
  {
   "cell_type": "markdown",
   "metadata": {},
   "source": [
    "**Distribution of abstract word counts.**\n",
    "\n",
    "We can see that the most common length of abstracts is 250 words which makes sense given the 250-word limit that journals often have. \n",
    "\n",
    "We include the unfiltered abstracts (original corpus) to compare.\n",
    "\n",
    "*WILL DO THIS FOR FULL TEXTS TOO.*"
   ]
  },
  {
   "cell_type": "code",
   "execution_count": 51,
   "metadata": {},
   "outputs": [],
   "source": [
    "abstracts_word_count = [len(abstract.split(' ')) for abstract in abstracts]\n",
    "abstracts_filtered_word_count = [len(abstract.split(' ')) for abstract in abstracts_unfiltered]"
   ]
  },
  {
   "cell_type": "code",
   "execution_count": 53,
   "metadata": {
    "scrolled": false
   },
   "outputs": [
    {
     "data": {
      "image/png": "[encoded data removed]",
      "text/plain": [
       "<Figure size 1152x504 with 1 Axes>"
      ]
     },
     "metadata": {
      "needs_background": "light"
     },
     "output_type": "display_data"
    }
   ],
   "source": [
    "plt.figure(figsize=(16,7))\n",
    "plt.hist(abstracts_word_count, bins=300, color='darkgray', alpha=0.5)\n",
    "plt.text(400, 3500, \"Mean: \" + str(round(np.mean(abstracts_word_count))), size=14)\n",
    "plt.text(400, 3200, \"Median: \" + str(int(round(np.median(abstracts_word_count)))), size=14)\n",
    "plt.text(400, 2900, \"Stdev: \" + str(round(np.std(abstracts_word_count))), size=14)\n",
    "plt.text(400, 2600, \"Min: \" + str(round(np.min(abstracts_word_count))), size=14)\n",
    "plt.text(400, 2300, \"Max: \" + str(round(np.max(abstracts_word_count))), size=14)\n",
    "plt.text(400, 2000, \"Mode: \" + str(scipy.stats.mode(abstracts_word_count)[0][0]), size=14)\n",
    "plt.gca().set(ylabel='Number of Abstracts', xlabel='Word Count')\n",
    "plt.title('Distribution of Abstract Word Counts', fontdict=dict(size=22))\n",
    "plt.rc('xtick',labelsize=16)\n",
    "plt.rc('axes',labelsize=16)\n",
    "plt.rc('ytick',labelsize=16)\n",
    "\n",
    "plt.hist(abstracts_filtered_word_count, bins=300, color='lightgray', alpha=0.5)\n",
    "plt.text(40, 3500, str(round(np.mean(abstracts_filtered_word_count))), size=14, color='darkgray')\n",
    "plt.text(450, 3200, str(int(round(np.median(abstracts_filtered_word_count)))), size=14, color='darkgray')\n",
    "plt.text(450, 2900, str(round(np.std(abstracts_filtered_word_count))), size=14, color='darkgray')\n",
    "plt.text(450, 2600, str(round(np.min(abstracts_filtered_word_count))), size=14, color='darkgray')\n",
    "plt.text(450, 2300, str(round(np.max(abstracts_filtered_word_count))), size=14, color='darkgray')\n",
    "plt.text(450, 2000, str(scipy.stats.mode(abstracts_filtered_word_count)[0][0]), size=14, color='darkgray')\n",
    "\n",
    "plt.show()"
   ]
  },
  {
   "cell_type": "markdown",
   "metadata": {},
   "source": [
    "How to decide optimal number of bins? https://stats.stackexchange.com/questions/798/calculating-optimal-number-of-bins-in-a-histogram\n",
    "\n",
    "One solution is to create a graph that shows every value. Either a dot plot, or a cumulative frequency distribution, which doesn't require any bins. *This took too long to plot.*\n",
    "\n",
    "If you use too few bins, the histogram doesn't really portray the data very well. If you have too many bins, you get a broken comb look, which also doesn't give a sense of the distribution. The simplest method is to set the number of bins equal to the square root of the number of values you are binning.\n",
    "\n",
    "I just ended up eyeing it. "
   ]
  },
  {
   "cell_type": "markdown",
   "metadata": {},
   "source": [
    "### Tokenize abstracts into our training corpus\n",
    "\n",
    "Usual steps involved in data preprocessing. \n",
    "\n",
    "- Stemming/lemmatizing\n",
    "- Converting all words to lower case\n",
    "- Punctuation removal \n",
    "- Stop word removal\n",
    "- Converting numerics to words (e.g. 1990 to one nine nine zero) \n",
    "\n",
    "The word2vec/doc2vec are often different. For example, the original word2vec paper and evaluations didn't mention any stemming/lemmatization or stop-word removal and retained punctuation as word-like tokens. The original Paragraph Vector paper and its follow-up seem to do things similarly — with no mention of extra preprocessing before calculating doc-vectors. \n",
    "\n",
    "But it's possible that the influence of stopwords and punctuation may be different in word2vec/doc2vec training than in other forms of NLP. \n",
    "\n",
    "https://www.ep.liu.se/ecp/131/039/ecp17131039.pdf\n",
    "- Stop-word removal increases window size.\n",
    "\n",
    "**This is something I can consider doing in the future. A similar analysis on how slight differences in data preprocessing affect the parameters. But for this thesis we will follow the original approach where we do not perform any stemming/lemmatization or stop-word removal, retain punctuation as word-like tokens.**\n",
    "\n",
    "**However, performance is strongly correlated with the performance on downstream tasks. So in the end we of course want to test on our practical application.**"
   ]
  },
  {
   "cell_type": "markdown",
   "metadata": {},
   "source": [
    "Steps that I specified in proposal:\n",
    "- Convert each paper to lowercase. This avoids the problem of treating words such as \"Galaxy\" and \"galaxy\" as two different words. However, this introduces the problem of treating words such as \"Newton\" and \"newton\" as the same word when they are in fact two different words. There will be much fewer of the second problem than the first problem. Furthermore, we are going to be able to differentiate between words such as HUBBLE and Hubble since we are keeping all capitalized words as capitalized.\n",
    "- Remove apostrophes and hyphens. \n",
    "- Remove all numbers."
   ]
  },
  {
   "cell_type": "markdown",
   "metadata": {},
   "source": [
    "**Here we convert numbers to English words, remove punctuation, and convert to lowercase except acronyms.**\n",
    "\n",
    "Compare original & preprocessed abstract:"
   ]
  },
  {
   "cell_type": "code",
   "execution_count": 114,
   "metadata": {},
   "outputs": [],
   "source": [
    "def tokenize(text): \n",
    "    # Convert numbers to English words\n",
    "    p = inflect.engine()\n",
    "    tokenized_text = re.sub(r'[+-]?\\d+(\\.\\d+)?', lambda m: p.number_to_words(m.group()), text)\n",
    "    \n",
    "    # Tokenize the text, removing accents\n",
    "    tokens = list(gensim.utils.tokenize(tokenized_text, deacc=True))\n",
    "    \n",
    "    # Lowercase all tokens except those that are longer than one letter & entirely capitalized (usually acronyms)\n",
    "    tokens = [token.lower() if (not token.isupper() and len(token) > 1) else token for token in tokens]\n",
    "    return np.array(tokens)"
   ]
  },
  {
   "cell_type": "code",
   "execution_count": 115,
   "metadata": {},
   "outputs": [
    {
     "name": "stdout",
     "output_type": "stream",
     "text": [
      "ORIGINAL\n",
      "We present a new multi-fluid, grid MHD code PIERNIK, which is based on the Relaxing TVD scheme (Jin & Xin, 1995). The original scheme (see Trac & Pen (2003) and Pen et al. (2003)) has been extended by an addition of dynamically independent, but interacting fluids: dust and a diffusive cosmic ray gas, described within the fluid approximation, with an option to add other fluids in an easy way. The code has been equipped with shearing-box boundary conditions, and a selfgravity module, Ohmic resistivity module, as well as other facilities which are useful in astrophysical fluid-dynamical simulations. The code is parallelized by means of the MPI library. In this paper we present an extension of PIERNIK, which is designed for simulations of diffusive propagation of the Cosmic-Ray (CR) component in the magnetized ISM.\n",
      "\n",
      "PREPROCESSED\n",
      "['we' 'present' 'a' 'new' 'multi' 'fluid' 'grid' 'MHD' 'code' 'PIERNIK'\n",
      " 'which' 'is' 'based' 'on' 'the' 'relaxing' 'TVD' 'scheme' 'jin' 'xin'\n",
      " 'one' 'thousand' 'nine' 'hundred' 'and' 'ninety' 'five' 'the' 'original'\n",
      " 'scheme' 'see' 'trac' 'pen' 'two' 'thousand' 'and' 'three' 'and' 'pen'\n",
      " 'et' 'al' 'two' 'thousand' 'and' 'three' 'has' 'been' 'extended' 'by'\n",
      " 'an' 'addition' 'of' 'dynamically' 'independent' 'but' 'interacting'\n",
      " 'fluids' 'dust' 'and' 'a' 'diffusive' 'cosmic' 'ray' 'gas' 'described'\n",
      " 'within' 'the' 'fluid' 'approximation' 'with' 'an' 'option' 'to' 'add'\n",
      " 'other' 'fluids' 'in' 'an' 'easy' 'way' 'the' 'code' 'has' 'been'\n",
      " 'equipped' 'with' 'shearing' 'box' 'boundary' 'conditions' 'and' 'a'\n",
      " 'selfgravity' 'module' 'ohmic' 'resistivity' 'module' 'as' 'well' 'as'\n",
      " 'other' 'facilities' 'which' 'are' 'useful' 'in' 'astrophysical' 'fluid'\n",
      " 'dynamical' 'simulations' 'the' 'code' 'is' 'parallelized' 'by' 'means'\n",
      " 'of' 'the' 'MPI' 'library' 'in' 'this' 'paper' 'we' 'present' 'an'\n",
      " 'extension' 'of' 'PIERNIK' 'which' 'is' 'designed' 'for' 'simulations'\n",
      " 'of' 'diffusive' 'propagation' 'of' 'the' 'cosmic' 'ray' 'CR' 'component'\n",
      " 'in' 'the' 'magnetized' 'ISM']\n"
     ]
    }
   ],
   "source": [
    "print('ORIGINAL\\n' + abstracts[1])\n",
    "print('\\nPREPROCESSED\\n' + str(tokenize(abstracts[1])))"
   ]
  },
  {
   "cell_type": "markdown",
   "metadata": {},
   "source": [
    "Preprocess all abstracts and save the tokens, so that we don't need to do this every time we train the model cuz we will train the model many times."
   ]
  },
  {
   "cell_type": "code",
   "execution_count": 117,
   "metadata": {},
   "outputs": [],
   "source": [
    "for i, abstract in enumerate(abstracts): \n",
    "    filename = metadata['filename_parsed'].iloc[i] + '.npy'\n",
    "    np.save('../data/2020_06_03_abstract_tokens/' + filename, tokenize(abstract))\n",
    "    break"
   ]
  },
  {
   "cell_type": "code",
   "execution_count": 119,
   "metadata": {},
   "outputs": [
    {
     "data": {
      "text/plain": [
       "array(['we', 'compute', 'the', 'probability', 'distribution', 'for',\n",
       "       'bubble', 'collisions', 'in', 'an', 'inflating', 'false', 'vacuum',\n",
       "       'which', 'decays', 'by', 'bubble', 'nucleation', 'our', 'analysis',\n",
       "       'generalizes', 'previous', 'work', 'of', 'guth', 'garriga', 'and',\n",
       "       'vilenkin', 'to', 'the', 'case', 'of', 'general', 'cosmological',\n",
       "       'evolution', 'inside', 'the', 'bubble', 'and', 'takes', 'into',\n",
       "       'account', 'the', 'dynamics', 'of', 'the', 'domain', 'walls',\n",
       "       'that', 'form', 'between', 'the', 'colliding', 'bubbles', 'we',\n",
       "       'find', 'that', 'incorporating', 'these', 'effects', 'changes',\n",
       "       'the', 'results', 'dramatically', 'the', 'total', 'expected',\n",
       "       'number', 'of', 'bubble', 'collisions', 'in', 'the', 'past',\n",
       "       'lightcone', 'of', 'a', 'typical', 'observer', 'is', 'N', 'gamma',\n",
       "       'v_f', 'v_i', 'where', 'gamma', 'is', 'the', 'fastest', 'decay',\n",
       "       'rate', 'of', 'the', 'false', 'vacuum', 'v_f', 'is', 'its',\n",
       "       'vacuum', 'energy', 'and', 'v_i', 'is', 'the', 'vacuum', 'energy',\n",
       "       'during', 'inflation', 'inside', 'the', 'bubble', 'this', 'number',\n",
       "       'can', 'be', 'large', 'in', 'realistic', 'models', 'without',\n",
       "       'tuning', 'in', 'addition', 'we', 'calculate', 'the', 'angular',\n",
       "       'position', 'and', 'size', 'distribution', 'of', 'the',\n",
       "       'collisions', 'on', 'the', 'cosmic', 'microwave', 'background',\n",
       "       'sky', 'and', 'demonstrate', 'that', 'the', 'number', 'of',\n",
       "       'bubbles', 'of', 'observable', 'angular', 'size', 'is', 'N_', 'LS',\n",
       "       'sim', 'sqrt', 'omega_k', 'N', 'where', 'omega_k', 'is', 'the',\n",
       "       'curvature', 'contribution', 'to', 'the', 'total', 'density', 'at',\n",
       "       'the', 'time', 'of', 'observation', 'the', 'distribution', 'is',\n",
       "       'almost', 'exactly', 'isotropic'], dtype='<U13')"
      ]
     },
     "execution_count": 119,
     "metadata": {},
     "output_type": "execute_result"
    }
   ],
   "source": []
  },
  {
   "cell_type": "code",
   "execution_count": 123,
   "metadata": {},
   "outputs": [
    {
     "data": {
      "text/plain": [
       "TaggedDocument(words=array(['we', 'compute', 'the', 'probability', 'distribution', 'for',\n",
       "       'bubble', 'collisions', 'in', 'an', 'inflating', 'false', 'vacuum',\n",
       "       'which', 'decays', 'by', 'bubble', 'nucleation', 'our', 'analysis',\n",
       "       'generalizes', 'previous', 'work', 'of', 'guth', 'garriga', 'and',\n",
       "       'vilenkin', 'to', 'the', 'case', 'of', 'general', 'cosmological',\n",
       "       'evolution', 'inside', 'the', 'bubble', 'and', 'takes', 'into',\n",
       "       'account', 'the', 'dynamics', 'of', 'the', 'domain', 'walls',\n",
       "       'that', 'form', 'between', 'the', 'colliding', 'bubbles', 'we',\n",
       "       'find', 'that', 'incorporating', 'these', 'effects', 'changes',\n",
       "       'the', 'results', 'dramatically', 'the', 'total', 'expected',\n",
       "       'number', 'of', 'bubble', 'collisions', 'in', 'the', 'past',\n",
       "       'lightcone', 'of', 'a', 'typical', 'observer', 'is', 'N', 'gamma',\n",
       "       'v_f', 'v_i', 'where', 'gamma', 'is', 'the', 'fastest', 'decay',\n",
       "       'rate', 'of', 'the', 'false', 'vacuum', 'v_f', 'is', 'its',\n",
       "       'vacuum', 'energy', 'and', 'v_i', 'is', 'the', 'vacuum', 'energy',\n",
       "       'during', 'inflation', 'inside', 'the', 'bubble', 'this', 'number',\n",
       "       'can', 'be', 'large', 'in', 'realistic', 'models', 'without',\n",
       "       'tuning', 'in', 'addition', 'we', 'calculate', 'the', 'angular',\n",
       "       'position', 'and', 'size', 'distribution', 'of', 'the',\n",
       "       'collisions', 'on', 'the', 'cosmic', 'microwave', 'background',\n",
       "       'sky', 'and', 'demonstrate', 'that', 'the', 'number', 'of',\n",
       "       'bubbles', 'of', 'observable', 'angular', 'size', 'is', 'N_', 'LS',\n",
       "       'sim', 'sqrt', 'omega_k', 'N', 'where', 'omega_k', 'is', 'the',\n",
       "       'curvature', 'contribution', 'to', 'the', 'total', 'density', 'at',\n",
       "       'the', 'time', 'of', 'observation', 'the', 'distribution', 'is',\n",
       "       'almost', 'exactly', 'isotropic'], dtype='<U13'), tags='2')"
      ]
     },
     "execution_count": 123,
     "metadata": {},
     "output_type": "execute_result"
    }
   ],
   "source": [
    "from gensim.models.doc2vec import TaggedDocument\n",
    "TaggedDocument(words=np.load('../data/2020_06_03_abstract_tokens/0704.0009.npy'), tags='2')"
   ]
  },
  {
   "cell_type": "code",
   "execution_count": null,
   "metadata": {},
   "outputs": [],
   "source": []
  }
 ],
 "metadata": {
  "kernelspec": {
   "display_name": "Python 3",
   "language": "python",
   "name": "python3"
  },
  "language_info": {
   "codemirror_mode": {
    "name": "ipython",
    "version": 3
   },
   "file_extension": ".py",
   "mimetype": "text/x-python",
   "name": "python",
   "nbconvert_exporter": "python",
   "pygments_lexer": "ipython3",
   "version": "3.6.5"
  }
 },
 "nbformat": 4,
 "nbformat_minor": 4
}
