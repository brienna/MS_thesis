{
 "cells": [
  {
   "cell_type": "markdown",
   "metadata": {},
   "source": [
    "# Prepare training data"
   ]
  },
  {
   "cell_type": "code",
   "execution_count": 1,
   "metadata": {},
   "outputs": [],
   "source": [
    "import pandas as pd\n",
    "from gensim.models.doc2vec import Doc2Vec, TaggedDocument\n",
    "import nltk\n",
    "import matplotlib.pyplot as plt\n",
    "import numpy as np\n",
    "import scipy"
   ]
  },
  {
   "cell_type": "markdown",
   "metadata": {},
   "source": [
    "Find each paper's author-assigned subcategory. If the paper has none, remove it from the data. "
   ]
  },
  {
   "cell_type": "code",
   "execution_count": 115,
   "metadata": {},
   "outputs": [
    {
     "name": "stdout",
     "output_type": "stream",
     "text": [
      "Total number of papers: 267794\n",
      "\n",
      "We are keeping only papers that have been labeled with any of the following 6 subdomains:\n",
      "dict_values(['Solar and Stellar Astrophysics', 'Cosmology and Nongalactic Astrophysics', 'Astrophysics of Galaxies', 'High Energy Astrophysical Phenomena', 'Earth and Planetary Astrophysics', 'Instrumentation and Methods for Astrophysics'])\n",
      "\n",
      "Number of papers without subdomain labels: 105283\n"
     ]
    }
   ],
   "source": [
    "metadata = pd.read_csv('../data/2020_03_06_arxiv_metadata_astroph/arxiv_metadata_astroph.csv')\n",
    "print('Total number of papers: ' + str(len(metadata)))\n",
    "\n",
    "# Specify the subdomains we want to target \n",
    "subdomains = {'astro-ph.SR': 'Solar and Stellar Astrophysics',\n",
    "              'astro-ph.CO': 'Cosmology and Nongalactic Astrophysics',\n",
    "              'astro-ph.GA': 'Astrophysics of Galaxies',\n",
    "              'astro-ph.HE': 'High Energy Astrophysical Phenomena',\n",
    "              'astro-ph.EP': 'Earth and Planetary Astrophysics',\n",
    "              'astro-ph.IM': 'Instrumentation and Methods for Astrophysics'}\n",
    "\n",
    "print('\\nWe are keeping only papers that have been labeled with any of the following ' \n",
    "      + str(len(subdomains.keys())) + ' subdomains:\\n' + str(subdomains.values()))\n",
    "\n",
    "labels = metadata['categories'].str.split(' ')        # Get all labels for each paper\n",
    "subdomain_labels = []     \n",
    "\n",
    "for i, _ in enumerate(labels):                         # For each paper,\n",
    "    temp = []                                          # create a temporary list of subdomain labels and\n",
    "    has_subdomain_label = False                        # state that the paper has no subdomain labels yet\n",
    "    for j,_ in enumerate(labels[i]):                   # For each of the paper's labels,\n",
    "        if labels[i][j] in subdomains.keys():                 # if the paper has a subdomain label\n",
    "            temp.append(labels[i][j])                  # add the subdomain label to that paper's subdomain labels list\n",
    "            has_subdomain_label = True                 # and mark that the paper has at least one subdomain label\n",
    "            \n",
    "        if j == (len(labels[i]) - 1):                  # When done looking at the last label for that paper,\n",
    "            if not has_subdomain_label:                # if that paper had no subdomain labels,\n",
    "                subdomain_labels.append(None)          # add none to the master list\n",
    "            else:                \n",
    "                subdomain_labels.append(temp)          # otherwise note its subdomain labels \n",
    "                \n",
    "metadata['subdomains'] = subdomain_labels\n",
    "print('\\nNumber of papers without subdomain labels: ' + str(len(papers_to_drop)))"
   ]
  },
  {
   "cell_type": "markdown",
   "metadata": {},
   "source": [
    "### Visualize how the distribution of years may have changed as a result of dropping a chunk of papers"
   ]
  },
  {
   "cell_type": "code",
   "execution_count": 141,
   "metadata": {},
   "outputs": [],
   "source": [
    "papers_with_no_subdomains = np.where(metadata['subdomains'].isna())[0]\n",
    "years = pd.to_datetime(metadata['created']).apply(lambda x: x.year)\n",
    "years_filtered = years.drop(papers_with_no_subdomains)\n",
    "years_count = years.value_counts()\n",
    "years_filtered_count = years_filtered.value_counts()"
   ]
  },
  {
   "cell_type": "code",
   "execution_count": 150,
   "metadata": {},
   "outputs": [
    {
     "data": {
      "image/png": "[encoded data removed]",
      "text/plain": [
       "<Figure size 1152x504 with 1 Axes>"
      ]
     },
     "metadata": {
      "needs_background": "light"
     },
     "output_type": "display_data"
    }
   ],
   "source": [
    "plt.figure(figsize=(16,7))\n",
    "plt.bar(years_count.keys(), years_count.values, color='lightgray')\n",
    "plt.bar(years_filtered_count.keys(), years_filtered_count.values, color='darkgray')\n",
    "plt.title('Number of papers per year')\n",
    "plt.show()"
   ]
  },
  {
   "cell_type": "markdown",
   "metadata": {},
   "source": [
    "Very few papers were labeled in 2007, 2008, etc, but probably because their papers were revised 2009> and the authors had the option to add labels then. \n",
    "\n",
    "Looks like in 2009 they realized they should add finer granularity to the field, and introduced subdomain labels. \n",
    "\n",
    "Ensure that there are no papers after 2009 that didn't have subdomain labels. "
   ]
  },
  {
   "cell_type": "code",
   "execution_count": 142,
   "metadata": {
    "scrolled": true
   },
   "outputs": [
    {
     "data": {
      "text/plain": [
       "2007    11315\n",
       "2008    11252\n",
       "2006    10367\n",
       "2005     9781\n",
       "2004     9248\n",
       "2003     8827\n",
       "2002     7847\n",
       "2001     7598\n",
       "2000     7027\n",
       "1999     6236\n",
       "1998     5312\n",
       "1997     3916\n",
       "1996     2686\n",
       "1995     1911\n",
       "1994     1222\n",
       "1993      617\n",
       "1992      121\n",
       "Name: created, dtype: int64"
      ]
     },
     "execution_count": 142,
     "metadata": {},
     "output_type": "execute_result"
    }
   ],
   "source": [
    "years.take(papers_with_no_subdomains).value_counts()"
   ]
  },
  {
   "cell_type": "markdown",
   "metadata": {},
   "source": [
    "There are NO papers after 2009 that didn't have subdomain labels. This is great.\n",
    "\n",
    "So we will focus on only papers from 2009-2019. \n",
    "\n",
    "**Remove abstracts outside 2009-2019.**\n",
    "\n",
    "Since there are no papers within 2009-2019 that didn't have subdomain labels, we can just select all the papers within this range. "
   ]
  },
  {
   "cell_type": "code",
   "execution_count": 100,
   "metadata": {},
   "outputs": [
    {
     "name": "stdout",
     "output_type": "stream",
     "text": [
      "Number of papers outside 2009-2019: 108178\n",
      "Number of papers within 2009-2019: 159616\n"
     ]
    }
   ],
   "source": [
    "papers_out_of_range = [i for i, isInRange in enumerate(years.apply(lambda x: x < 2009 or x > 2019)) if isInRange]\n",
    "print('Number of papers outside 2009-2019: ' + str(len(papers_out_of_range)))\n",
    "abstracts_filtered = pd.Series(abstracts).drop(papers_out_of_range)\n",
    "print('Number of papers within 2009-2019: ' + str(len(abstracts_filtered)))"
   ]
  },
  {
   "cell_type": "markdown",
   "metadata": {},
   "source": [
    "### Visualize subdomain distribution within 2009-2019"
   ]
  },
  {
   "cell_type": "code",
   "execution_count": 153,
   "metadata": {},
   "outputs": [],
   "source": [
    "subdomain_distribution = pd.Series([subdomain for subdomains in metadata['subdomains'].drop(papers_out_of_range) for subdomain in subdomains]).value_counts()"
   ]
  },
  {
   "cell_type": "code",
   "execution_count": 155,
   "metadata": {},
   "outputs": [
    {
     "data": {
      "image/png": "[encoded data removed]",
      "text/plain": [
       "<Figure size 1152x504 with 1 Axes>"
      ]
     },
     "metadata": {
      "needs_background": "light"
     },
     "output_type": "display_data"
    }
   ],
   "source": [
    "plt.figure(figsize=(16,7))\n",
    "plt.bar(subdomain_distribution.keys(), subdomain_distribution.values, color='lightgray')\n",
    "plt.title('Number of papers in each subdomain', fontdict=dict(size=22))\n",
    "plt.text(4.5, 50000, str(len(abstracts_filtered)) + ' papers', size=14, color='darkgray')\n",
    "plt.show()"
   ]
  },
  {
   "cell_type": "markdown",
   "metadata": {},
   "source": [
    "**Distribution of abstract word counts.**\n",
    "\n",
    "We can see that the most common length of abstracts is 250 words which makes sense given the 250-word limit that journals often have.\n",
    "\n",
    "*WILL DO THIS FOR FULL TEXTS TOO.*"
   ]
  },
  {
   "cell_type": "code",
   "execution_count": 7,
   "metadata": {},
   "outputs": [],
   "source": [
    "abstracts = [abstract.replace('\\n', ' ').strip() for abstract in metadata['abstract']]\n",
    "abstracts_word_count = [len(abstract.split(' ')) for abstract in abstracts]\n",
    "abstracts_filtered_word_count = list(pd.Series(abstracts_word_count).drop(papers_to_drop))"
   ]
  },
  {
   "cell_type": "code",
   "execution_count": 8,
   "metadata": {
    "scrolled": false
   },
   "outputs": [
    {
     "data": {
      "image/png": "[encoded data removed]",
      "text/plain": [
       "<Figure size 1152x504 with 1 Axes>"
      ]
     },
     "metadata": {
      "needs_background": "light"
     },
     "output_type": "display_data"
    }
   ],
   "source": [
    "plt.figure(figsize=(16,7))\n",
    "plt.hist(abstracts_word_count, bins=300, color='lightgray', alpha=0.5)\n",
    "plt.text(400, 3500, \"Mean: \" + str(round(np.mean(abstracts_word_count))), size=14)\n",
    "plt.text(400, 3200, \"Median: \" + str(int(round(np.median(abstracts_word_count)))), size=14)\n",
    "plt.text(400, 2900, \"Stdev: \" + str(round(np.std(abstracts_word_count))), size=14)\n",
    "plt.text(400, 2600, \"Min: \" + str(round(np.min(abstracts_word_count))), size=14)\n",
    "plt.text(400, 2300, \"Max: \" + str(round(np.max(abstracts_word_count))), size=14)\n",
    "plt.text(400, 2000, \"Mode: \" + str(scipy.stats.mode(abstracts_word_count)[0][0]), size=14)\n",
    "plt.gca().set(ylabel='Number of Abstracts', xlabel='Word Count')\n",
    "plt.title('Distribution of Abstract Word Counts', fontdict=dict(size=22))\n",
    "plt.rc('xtick',labelsize=16)\n",
    "plt.rc('axes',labelsize=16)\n",
    "plt.rc('ytick',labelsize=16)\n",
    "\n",
    "plt.hist(abstracts_filtered_word_count, bins=300, color='darkgray', alpha=0.5)\n",
    "plt.text(40, 3500, str(round(np.mean(abstracts_filtered_word_count))), size=14, color='darkgray')\n",
    "plt.text(450, 3200, str(int(round(np.median(abstracts_filtered_word_count)))), size=14, color='darkgray')\n",
    "plt.text(450, 2900, str(round(np.std(abstracts_filtered_word_count))), size=14, color='darkgray')\n",
    "plt.text(450, 2600, str(round(np.min(abstracts_filtered_word_count))), size=14, color='darkgray')\n",
    "plt.text(450, 2300, str(round(np.max(abstracts_filtered_word_count))), size=14, color='darkgray')\n",
    "plt.text(450, 2000, str(scipy.stats.mode(abstracts_filtered_word_count)[0][0]), size=14, color='darkgray')\n",
    "\n",
    "plt.show()"
   ]
  },
  {
   "cell_type": "markdown",
   "metadata": {},
   "source": [
    "How to decide optimal number of bins? https://stats.stackexchange.com/questions/798/calculating-optimal-number-of-bins-in-a-histogram\n",
    "\n",
    "One solution is to create a graph that shows every value. Either a dot plot, or a cumulative frequency distribution, which doesn't require any bins. *This took too long to plot.*\n",
    "\n",
    "If you use too few bins, the histogram doesn't really portray the data very well. If you have too many bins, you get a broken comb look, which also doesn't give a sense of the distribution. The simplest method is to set the number of bins equal to the square root of the number of values you are binning.\n",
    "\n",
    "I just ended up eyeing it. "
   ]
  },
  {
   "cell_type": "markdown",
   "metadata": {},
   "source": [
    "## Tokenize abstracts into our training corpus\n",
    "\n",
    "Usual steps involved in data preprocessing. \n",
    "\n",
    "- Stemming/lemmatizing\n",
    "- Converting all words to lower case\n",
    "- Punctuation removal \n",
    "- Stop word removal\n",
    "- Converting numerics to words (e.g. 1990 to one nine nine zero) \n",
    "\n",
    "The word2vec/doc2vec are often different. For example, the original word2vec paper and evaluations didn't mention any stemming/lemmatization or stop-word removal and retained punctuation as word-like tokens. The original Paragraph Vector paper and its follow-up seem to do things similarly — with no mention of extra preprocessing before calculating doc-vectors. \n",
    "\n",
    "But it's possible that the influence of stopwords and punctuation may be different in word2vec/doc2vec training than in other forms of NLP. \n",
    "\n",
    "https://www.ep.liu.se/ecp/131/039/ecp17131039.pdf\n",
    "- Stop-word removal increases window size.\n",
    "\n",
    "**However, performance is strongly correlated with the performance on downstream tasks. So in the end we of course want to test on our practical application.**"
   ]
  },
  {
   "cell_type": "code",
   "execution_count": 114,
   "metadata": {},
   "outputs": [],
   "source": [
    "words = [nltk.word_tokenize(_d.lower()) for i,_d in enumerate(abstracts_filtered)]"
   ]
  },
  {
   "cell_type": "code",
   "execution_count": 157,
   "metadata": {},
   "outputs": [
    {
     "data": {
      "text/plain": [
       "['we',\n",
       " 'compute',\n",
       " 'the',\n",
       " 'probability',\n",
       " 'distribution',\n",
       " 'for',\n",
       " 'bubble',\n",
       " 'collisions',\n",
       " 'in',\n",
       " 'an',\n",
       " 'inflating',\n",
       " 'false',\n",
       " 'vacuum',\n",
       " 'which',\n",
       " 'decays',\n",
       " 'by',\n",
       " 'bubble',\n",
       " 'nucleation',\n",
       " '.',\n",
       " 'our',\n",
       " 'analysis',\n",
       " 'generalizes',\n",
       " 'previous',\n",
       " 'work',\n",
       " 'of',\n",
       " 'guth',\n",
       " ',',\n",
       " 'garriga',\n",
       " ',',\n",
       " 'and',\n",
       " 'vilenkin',\n",
       " 'to',\n",
       " 'the',\n",
       " 'case',\n",
       " 'of',\n",
       " 'general',\n",
       " 'cosmological',\n",
       " 'evolution',\n",
       " 'inside',\n",
       " 'the',\n",
       " 'bubble',\n",
       " ',',\n",
       " 'and',\n",
       " 'takes',\n",
       " 'into',\n",
       " 'account',\n",
       " 'the',\n",
       " 'dynamics',\n",
       " 'of',\n",
       " 'the',\n",
       " 'domain',\n",
       " 'walls',\n",
       " 'that',\n",
       " 'form',\n",
       " 'between',\n",
       " 'the',\n",
       " 'colliding',\n",
       " 'bubbles',\n",
       " '.',\n",
       " 'we',\n",
       " 'find',\n",
       " 'that',\n",
       " 'incorporating',\n",
       " 'these',\n",
       " 'effects',\n",
       " 'changes',\n",
       " 'the',\n",
       " 'results',\n",
       " 'dramatically',\n",
       " ':',\n",
       " 'the',\n",
       " 'total',\n",
       " 'expected',\n",
       " 'number',\n",
       " 'of',\n",
       " 'bubble',\n",
       " 'collisions',\n",
       " 'in',\n",
       " 'the',\n",
       " 'past',\n",
       " 'lightcone',\n",
       " 'of',\n",
       " 'a',\n",
       " 'typical',\n",
       " 'observer',\n",
       " 'is',\n",
       " 'n',\n",
       " '~',\n",
       " '\\\\gamma',\n",
       " 'v_f',\n",
       " '/',\n",
       " 'v_i',\n",
       " ',',\n",
       " 'where',\n",
       " '\\\\gamma',\n",
       " 'is',\n",
       " 'the',\n",
       " 'fastest',\n",
       " 'decay',\n",
       " 'rate',\n",
       " 'of',\n",
       " 'the',\n",
       " 'false',\n",
       " 'vacuum',\n",
       " ',',\n",
       " 'v_f',\n",
       " 'is',\n",
       " 'its',\n",
       " 'vacuum',\n",
       " 'energy',\n",
       " ',',\n",
       " 'and',\n",
       " 'v_i',\n",
       " 'is',\n",
       " 'the',\n",
       " 'vacuum',\n",
       " 'energy',\n",
       " 'during',\n",
       " 'inflation',\n",
       " 'inside',\n",
       " 'the',\n",
       " 'bubble',\n",
       " '.',\n",
       " 'this',\n",
       " 'number',\n",
       " 'can',\n",
       " 'be',\n",
       " 'large',\n",
       " 'in',\n",
       " 'realistic',\n",
       " 'models',\n",
       " 'without',\n",
       " 'tuning',\n",
       " '.',\n",
       " 'in',\n",
       " 'addition',\n",
       " ',',\n",
       " 'we',\n",
       " 'calculate',\n",
       " 'the',\n",
       " 'angular',\n",
       " 'position',\n",
       " 'and',\n",
       " 'size',\n",
       " 'distribution',\n",
       " 'of',\n",
       " 'the',\n",
       " 'collisions',\n",
       " 'on',\n",
       " 'the',\n",
       " 'cosmic',\n",
       " 'microwave',\n",
       " 'background',\n",
       " 'sky',\n",
       " ',',\n",
       " 'and',\n",
       " 'demonstrate',\n",
       " 'that',\n",
       " 'the',\n",
       " 'number',\n",
       " 'of',\n",
       " 'bubbles',\n",
       " 'of',\n",
       " 'observable',\n",
       " 'angular',\n",
       " 'size',\n",
       " 'is',\n",
       " 'n_',\n",
       " '{',\n",
       " 'ls',\n",
       " '}',\n",
       " '\\\\sim',\n",
       " '\\\\sqrt',\n",
       " '{',\n",
       " '\\\\omega_k',\n",
       " '}',\n",
       " 'n',\n",
       " ',',\n",
       " 'where',\n",
       " '\\\\omega_k',\n",
       " 'is',\n",
       " 'the',\n",
       " 'curvature',\n",
       " 'contribution',\n",
       " 'to',\n",
       " 'the',\n",
       " 'total',\n",
       " 'density',\n",
       " 'at',\n",
       " 'the',\n",
       " 'time',\n",
       " 'of',\n",
       " 'observation',\n",
       " '.',\n",
       " 'the',\n",
       " 'distribution',\n",
       " 'is',\n",
       " 'almost',\n",
       " 'exactly',\n",
       " 'isotropic',\n",
       " '.']"
      ]
     },
     "execution_count": 157,
     "metadata": {},
     "output_type": "execute_result"
    }
   ],
   "source": [
    "words[0]"
   ]
  },
  {
   "cell_type": "code",
   "execution_count": 89,
   "metadata": {},
   "outputs": [],
   "source": [
    "training_data = [TaggedDocument(words=words, tags=[str(i)])]"
   ]
  },
  {
   "cell_type": "code",
   "execution_count": 90,
   "metadata": {},
   "outputs": [
    {
     "data": {
      "text/plain": [
       "TaggedDocument(words=['we', 'compute', 'the', 'probability', 'distribution', 'for', 'bubble', 'collisions', 'in', 'an', 'inflating', 'false', 'vacuum', 'which', 'decays', 'by', 'bubble', 'nucleation', '.', 'our', 'analysis', 'generalizes', 'previous', 'work', 'of', 'guth', ',', 'garriga', ',', 'and', 'vilenkin', 'to', 'the', 'case', 'of', 'general', 'cosmological', 'evolution', 'inside', 'the', 'bubble', ',', 'and', 'takes', 'into', 'account', 'the', 'dynamics', 'of', 'the', 'domain', 'walls', 'that', 'form', 'between', 'the', 'colliding', 'bubbles', '.', 'we', 'find', 'that', 'incorporating', 'these', 'effects', 'changes', 'the', 'results', 'dramatically', ':', 'the', 'total', 'expected', 'number', 'of', 'bubble', 'collisions', 'in', 'the', 'past', 'lightcone', 'of', 'a', 'typical', 'observer', 'is', 'n', '~', '\\\\gamma', 'v_f', '/', 'v_i', ',', 'where', '\\\\gamma', 'is', 'the', 'fastest', 'decay', 'rate', 'of', 'the', 'false', 'vacuum', ',', 'v_f', 'is', 'its', 'vacuum', 'energy', ',', 'and', 'v_i', 'is', 'the', 'vacuum', 'energy', 'during', 'inflation', 'inside', 'the', 'bubble', '.', 'this', 'number', 'can', 'be', 'large', 'in', 'realistic', 'models', 'without', 'tuning', '.', 'in', 'addition', ',', 'we', 'calculate', 'the', 'angular', 'position', 'and', 'size', 'distribution', 'of', 'the', 'collisions', 'on', 'the', 'cosmic', 'microwave', 'background', 'sky', ',', 'and', 'demonstrate', 'that', 'the', 'number', 'of', 'bubbles', 'of', 'observable', 'angular', 'size', 'is', 'n_', '{', 'ls', '}', '\\\\sim', '\\\\sqrt', '{', '\\\\omega_k', '}', 'n', ',', 'where', '\\\\omega_k', 'is', 'the', 'curvature', 'contribution', 'to', 'the', 'total', 'density', 'at', 'the', 'time', 'of', 'observation', '.', 'the', 'distribution', 'is', 'almost', 'exactly', 'isotropic', '.'], tags=['0'])"
      ]
     },
     "execution_count": 90,
     "metadata": {},
     "output_type": "execute_result"
    }
   ],
   "source": [
    "training_data[0]"
   ]
  },
  {
   "cell_type": "code",
   "execution_count": null,
   "metadata": {},
   "outputs": [],
   "source": []
  },
  {
   "cell_type": "markdown",
   "metadata": {},
   "source": [
    "### Parameters to change:\n",
    "\n",
    "- `window` — size of the sliding window used to parse texts\n",
    "- `alpha` — initial learning rate of the network\n",
    "- `sample` — allows the model to reduce the importance given to high-frequency words\n",
    "- `dm` — training algorithm (PV-DM or PV-DBOW)\n",
    "- `hs` — whether hierarchical softmax or negative sampling is used during training\n",
    "- `dimensions` \n",
    "\n",
    "Default values:\n",
    "- `window_size` — 5\n",
    "- `alpha` — \n",
    "- `sample` – \n",
    "- `dm` – 1 (PV-DM)\n",
    "- `hs` – \n",
    "\n",
    "Possible values: "
   ]
  },
  {
   "cell_type": "code",
   "execution_count": null,
   "metadata": {},
   "outputs": [],
   "source": []
  },
  {
   "cell_type": "markdown",
   "metadata": {},
   "source": [
    "How to use bash:\n",
    "\n",
    "1. Create a file named `bash_practice` in Sublime, Text Edit etc. with some example bash script, e.g. \n",
    "\n",
    "```\n",
    "#!/bin/bash\n",
    "echo hello world\n",
    "```\n",
    "\n",
    "2. `chmod 700 bash_practice`\n",
    "3. `./bash_practice`\n",
    "\n",
    "It will output \"hello world\"."
   ]
  },
  {
   "cell_type": "markdown",
   "metadata": {},
   "source": []
  }
 ],
 "metadata": {
  "kernelspec": {
   "display_name": "Python 3",
   "language": "python",
   "name": "python3"
  },
  "language_info": {
   "codemirror_mode": {
    "name": "ipython",
    "version": 3
   },
   "file_extension": ".py",
   "mimetype": "text/x-python",
   "name": "python",
   "nbconvert_exporter": "python",
   "pygments_lexer": "ipython3",
   "version": "3.6.5"
  }
 },
 "nbformat": 4,
 "nbformat_minor": 4
}
