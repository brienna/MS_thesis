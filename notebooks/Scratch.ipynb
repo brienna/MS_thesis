{
 "cells": [
  {
   "cell_type": "code",
   "execution_count": 3,
   "metadata": {},
   "outputs": [
    {
     "data": {
      "text/plain": [
       "{'absolute_filepaths': {'metadata': '/Volumes/ARCHIVES/Thesis/data/metadata.csv',\n",
       "  'conversion_log': '/Volumes/ARCHIVES/Thesis/data/conversion_log.csv',\n",
       "  'xml': '/Volumes/ARCHIVES/Thesis/data/xml/',\n",
       "  'archive': '/Volumes/ARCHIVES/Thesis/data/archive/',\n",
       "  'corpus': '/Volumes/ARCHIVES/Thesis/data/corpus/',\n",
       "  'data': '/Volumes/ARCHIVES/Thesis/data/',\n",
       "  'root': '/Volumes/ARCHIVES/Thesis/'},\n",
       " 'start': 2009,\n",
       " 'end': 2019}"
      ]
     },
     "execution_count": 3,
     "metadata": {},
     "output_type": "execute_result"
    }
   ],
   "source": [
    "from sklearn.model_selection import ParameterGrid\n",
    "import pickle\n",
    "import json\n",
    "import pandas as pd\n",
    "import os\n",
    "\n",
    "GLOBALS = pickle.load(open('../data/globals.p', 'rb'))\n",
    "GLOBALS"
   ]
  }
 ],
 "metadata": {
  "kernelspec": {
   "display_name": "Python 3",
   "language": "python",
   "name": "python3"
  },
  "language_info": {
   "codemirror_mode": {
    "name": "ipython",
    "version": 3
   },
   "file_extension": ".py",
   "mimetype": "text/x-python",
   "name": "python",
   "nbconvert_exporter": "python",
   "pygments_lexer": "ipython3",
   "version": "3.7.7"
  }
 },
 "nbformat": 4,
 "nbformat_minor": 4
}
