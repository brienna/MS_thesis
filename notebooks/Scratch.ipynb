{
 "cells": [
  {
   "cell_type": "code",
   "execution_count": 20,
   "metadata": {},
   "outputs": [
    {
     "data": {
      "text/plain": [
       "{'absolute_filepaths': {'metadata': '/Volumes/ARCHIVES/Thesis/data/metadata.csv',\n",
       "  'conversion_log': '/Volumes/ARCHIVES/Thesis/data/conversion_log.csv',\n",
       "  'xml': '/Volumes/ARCHIVES/Thesis/data/xml/',\n",
       "  'archive': '/Volumes/ARCHIVES/Thesis/data/archive/',\n",
       "  'corpus': '/Volumes/ARCHIVES/Thesis/data/corpus/',\n",
       "  'data': '/Volumes/ARCHIVES/Thesis/data/',\n",
       "  'root': '/Volumes/ARCHIVES/Thesis/'},\n",
       " 'start': 2009,\n",
       " 'end': 2019}"
      ]
     },
     "execution_count": 20,
     "metadata": {},
     "output_type": "execute_result"
    }
   ],
   "source": [
    "from sklearn.model_selection import ParameterGrid\n",
    "import pickle\n",
    "import json\n",
    "import pandas as pd\n",
    "import os\n",
    "\n",
    "GLOBALS = pickle.load(open('../data/globals.p', 'rb'))\n",
    "GLOBALS"
   ]
  },
  {
   "cell_type": "code",
   "execution_count": 4,
   "metadata": {},
   "outputs": [],
   "source": [
    "params = {'dm': [0, 1],\n",
    "          'vector_size': [100, 500, 1000, 2500, 5000, 7500, 10000], \n",
    "          'corpus': ['abstracts/basic_preprocessing',\n",
    "                     'abstracts/and_stemming',\n",
    "                     'abstracts/and_lemmatization',\n",
    "                     'abstracts/and_stopword_removal',\n",
    "                     'fulltexts/basic_preprocessing',\n",
    "                     'fulltexts/and_stemming',\n",
    "                     'fulltexts/and_lemmatization',\n",
    "                     'fulltexts/and_stopword_removal'],\n",
    "          'epochs': [10, 25, 50, 100],\n",
    "          'window': [2, 5, 10, 20],\n",
    "          'hs': [0, 1],\n",
    "          'min_count': [2, 5, 10, 20]}\n",
    "tasks = list(ParameterGrid(params))"
   ]
  },
  {
   "cell_type": "code",
   "execution_count": 56,
   "metadata": {},
   "outputs": [
    {
     "data": {
      "text/plain": [
       "14336"
      ]
     },
     "execution_count": 56,
     "metadata": {},
     "output_type": "execute_result"
    }
   ],
   "source": [
    "len(tasks)"
   ]
  },
  {
   "cell_type": "code",
   "execution_count": 18,
   "metadata": {},
   "outputs": [
    {
     "name": "stdout",
     "output_type": "stream",
     "text": [
      "This model has already been trained.\n"
     ]
    }
   ],
   "source": [
    "scores_df = None\n",
    "\n",
    "with open(GLOBALS['absolute_filepaths']['root'] + 'src/sporc_doc2vec/scores.txt') as file:\n",
    "    raw_scores = json.load(file)\n",
    "    if tasks[0] in [x['parameters'] for x in raw_scores]:\n",
    "        print('This model has already been trained.')"
   ]
  },
  {
   "cell_type": "code",
   "execution_count": 60,
   "metadata": {},
   "outputs": [
    {
     "data": {
      "text/plain": [
       "13454"
      ]
     },
     "execution_count": 60,
     "metadata": {},
     "output_type": "execute_result"
    }
   ],
   "source": [
    "len([x for x in tasks if x not in [x['parameters'] for x in scores]])"
   ]
  },
  {
   "cell_type": "code",
   "execution_count": 51,
   "metadata": {},
   "outputs": [
    {
     "name": "stdout",
     "output_type": "stream",
     "text": [
      "882\n",
      "883\n",
      "884\n",
      "885\n",
      "886\n"
     ]
    }
   ],
   "source": [
    "i = 0\n",
    "\n",
    "with open(GLOBALS['absolute_filepaths']['root'] + 'notebooks/scores.txt', 'r+') as scores_file:\n",
    "    scores = json.load(scores_file)\n",
    "    \n",
    "    while i < 5:\n",
    "        print(len(scores))\n",
    "        \n",
    "        scores.append(scores[0])\n",
    "        json.dump(scores, scores_file)\n",
    "        \n",
    "        i += 1"
   ]
  },
  {
   "cell_type": "code",
   "execution_count": 54,
   "metadata": {},
   "outputs": [
    {
     "data": {
      "text/plain": [
       "{'score': 0.3536,\n",
       " 'parameters': {'corpus': 'abstracts/basic_preprocessing',\n",
       "  'dm': 0,\n",
       "  'epochs': 10,\n",
       "  'hs': 0,\n",
       "  'min_count': 5,\n",
       "  'vector_size': 100,\n",
       "  'window': 10}}"
      ]
     },
     "execution_count": 54,
     "metadata": {},
     "output_type": "execute_result"
    }
   ],
   "source": [
    "scores[-1]"
   ]
  },
  {
   "cell_type": "code",
   "execution_count": 55,
   "metadata": {},
   "outputs": [
    {
     "data": {
      "text/plain": [
       "{'score': 0.3536,\n",
       " 'parameters': {'corpus': 'abstracts/basic_preprocessing',\n",
       "  'dm': 0,\n",
       "  'epochs': 10,\n",
       "  'hs': 0,\n",
       "  'min_count': 5,\n",
       "  'vector_size': 100,\n",
       "  'window': 10}}"
      ]
     },
     "execution_count": 55,
     "metadata": {},
     "output_type": "execute_result"
    }
   ],
   "source": [
    "scores[0]"
   ]
  },
  {
   "cell_type": "code",
   "execution_count": null,
   "metadata": {},
   "outputs": [],
   "source": []
  }
 ],
 "metadata": {
  "kernelspec": {
   "display_name": "Python 3",
   "language": "python",
   "name": "python3"
  },
  "language_info": {
   "codemirror_mode": {
    "name": "ipython",
    "version": 3
   },
   "file_extension": ".py",
   "mimetype": "text/x-python",
   "name": "python",
   "nbconvert_exporter": "python",
   "pygments_lexer": "ipython3",
   "version": "3.7.7"
  }
 },
 "nbformat": 4,
 "nbformat_minor": 4
}
