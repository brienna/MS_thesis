{
 "cells": [
  {
   "cell_type": "markdown",
   "metadata": {},
   "source": [
    "# Build corpus\n",
    "\n",
    "In this notebook, we identify which papers we want in our corpus, based on their metadata. Since we need astrophysics subcategories for model evaluation, we need each paper in our corpus to contain at least one astrophysics subcategory. We found that all papers within the time range of 2009 - 2019 fit this criteria. We excluded papers from 2020, since the year isn't over yet.\n",
    "\n",
    "We also identify papers whose fulltexts we successfully extracted and converted.\n",
    "\n",
    "We re-save metadata.csv with three additional columns: `subcategories`, `in_range`, and `has_fulltext`.\n",
    "\n",
    "## 1. Setup\n",
    "\n",
    "Load dependencies and globals."
   ]
  },
  {
   "cell_type": "code",
   "execution_count": 2,
   "metadata": {},
   "outputs": [],
   "source": [
    "import pandas as pd\n",
    "import pickle\n",
    "import numpy as np\n",
    "import matplotlib.pyplot as plt\n",
    "\n",
    "GLOBALS = pickle.load(open('../data/globals.p', 'rb'))"
   ]
  },
  {
   "cell_type": "markdown",
   "metadata": {},
   "source": [
    "Load metadata."
   ]
  },
  {
   "cell_type": "code",
   "execution_count": 28,
   "metadata": {},
   "outputs": [
    {
     "name": "stdout",
     "output_type": "stream",
     "text": [
      "Papers we have metadata for: 274402\n"
     ]
    }
   ],
   "source": [
    "metadata = pd.read_csv(GLOBALS['absolute_filepaths']['metadata'],\n",
    "                       dtype={'filename': str,\n",
    "                              'filename_parsed': str,\n",
    "                              'identifier': str,\n",
    "                              'updated': str,\n",
    "                              'doi': str}, \n",
    "                       parse_dates=['date_retrieved'])\n",
    "\n",
    "print('Papers we have metadata for: ' + str(len(metadata)))"
   ]
  },
  {
   "cell_type": "code",
   "execution_count": 30,
   "metadata": {},
   "outputs": [
    {
     "data": {
      "text/plain": [
       "Index(['identifier', 'filename', 'spec', 'title', 'datestamp', 'created',\n",
       "       'updated', 'authors', 'categories', 'journal', 'doi', 'abstract',\n",
       "       'comments', 'date_retrieved', 'filename_parsed'],\n",
       "      dtype='object')"
      ]
     },
     "execution_count": 30,
     "metadata": {},
     "output_type": "execute_result"
    }
   ],
   "source": [
    "metadata.columns"
   ]
  },
  {
   "cell_type": "markdown",
   "metadata": {},
   "source": [
    "## 2. Filter papers based on metadata"
   ]
  },
  {
   "cell_type": "code",
   "execution_count": 31,
   "metadata": {},
   "outputs": [],
   "source": [
    "acceptable_subcats = {'astro-ph.SR': 'Solar and Stellar Astrophysics',\n",
    "                      'astro-ph.CO': 'Cosmology and Nongalactic Astrophysics',\n",
    "                      'astro-ph.GA': 'Astrophysics of Galaxies',\n",
    "                      'astro-ph.HE': 'High Energy Astrophysical Phenomena',\n",
    "                      'astro-ph.EP': 'Earth and Planetary Astrophysics',\n",
    "                      'astro-ph.IM': 'Instrumentation and Methods for Astrophysics'}"
   ]
  },
  {
   "cell_type": "markdown",
   "metadata": {},
   "source": [
    "Find each paper's astrophysics subcategories."
   ]
  },
  {
   "cell_type": "code",
   "execution_count": 32,
   "metadata": {},
   "outputs": [
    {
     "name": "stdout",
     "output_type": "stream",
     "text": [
      "Number of papers without subcategory labels: 105282\n"
     ]
    }
   ],
   "source": [
    "cats = metadata['categories'].str.split(' ')           # Get all categories for each paper\n",
    "subcats = []            \n",
    "\n",
    "for i, _ in enumerate(cats):                           # For each paper,\n",
    "    temp = []                                          # create a temporary list to hold its subcategories and\n",
    "    has_subcat = False                                 # set toggle that we have detected no subcategories yet\n",
    "    for j,_ in enumerate(cats[i]):                     # For each of the paper's categories,\n",
    "        if cats[i][j] in acceptable_subcats.keys():    # if the category is a subcategory\n",
    "            temp.append(cats[i][j])                    # add it to the temporary list\n",
    "            has_subcat = True                          # and toggle that we have detected a subcategory\n",
    "            \n",
    "        if j == (len(cats[i]) - 1):                    # When done looking at the last category for that paper,\n",
    "            if not has_subcat:                         # if that paper had no subcategories,\n",
    "                subcats.append(None)                   # add none to the master list\n",
    "            else:                \n",
    "                subcats.append(temp)                   # otherwise add its subcategories to the master list\n",
    "                \n",
    "metadata['subcategories'] = subcats\n",
    "papers_with_no_subcats = np.where(metadata['subcategories'].isna())[0]\n",
    "print('Number of papers without subcategory labels: ' + str(len(papers_with_no_subcats)))"
   ]
  },
  {
   "cell_type": "markdown",
   "metadata": {},
   "source": [
    "We will need to exclude at least 105,283 papers when forming our corpus, because they contain no astrophysics subcategories.\n",
    "\n",
    "Will this change the distribution of years?"
   ]
  },
  {
   "cell_type": "code",
   "execution_count": 33,
   "metadata": {
    "scrolled": false
   },
   "outputs": [],
   "source": [
    "years = pd.to_datetime(metadata['created']).apply(lambda x: x.year)\n",
    "years_filtered = years.drop(papers_with_no_subcats)\n",
    "years_count = years.value_counts()\n",
    "years_filtered_count = years_filtered.value_counts()"
   ]
  },
  {
   "cell_type": "code",
   "execution_count": 34,
   "metadata": {},
   "outputs": [
    {
     "data": {
      "image/png": "[encoded data removed]",
      "text/plain": [
       "<Figure size 1152x504 with 1 Axes>"
      ]
     },
     "metadata": {
      "needs_background": "light"
     },
     "output_type": "display_data"
    }
   ],
   "source": [
    "plt.figure(figsize=(16,7))\n",
    "plt.bar(years_count.keys(), years_count.values, color='lightgray')\n",
    "plt.bar(years_filtered_count.keys(), years_filtered_count.values, color='darkgray')\n",
    "plt.title('Number of papers per year')\n",
    "plt.show()"
   ]
  },
  {
   "cell_type": "markdown",
   "metadata": {},
   "source": [
    "It definitely changes the distribution of years. It appears that arXiv did not require that astrophysics submissions include a subcategory until 2009, because there are very few papers before 2009 that contain subcategories, whereas it appears that all papers in and after 2009 do.\n",
    "\n",
    "Confirm this by checking whether there are any papers created in or after 2009 that contain no subcategory."
   ]
  },
  {
   "cell_type": "code",
   "execution_count": 18,
   "metadata": {},
   "outputs": [
    {
     "data": {
      "text/plain": [
       "False"
      ]
     },
     "execution_count": 18,
     "metadata": {},
     "output_type": "execute_result"
    }
   ],
   "source": [
    "any(years.take(papers_with_no_subcats).value_counts().keys() >= 2009)"
   ]
  },
  {
   "cell_type": "markdown",
   "metadata": {},
   "source": [
    "We have confirmed that all papers created in or after 2009 contain subcategories, so we will include in our corpus papers from the time range 2009 - 2019, excluding 2020 as it is not yet over. \n",
    "\n",
    "Set this time range as global variables in src/set_globals.py, in `corpus_start_year` and `corpus_end_year`, re-make the pickled globals.p file and rerun cell 1 to reload it. "
   ]
  },
  {
   "cell_type": "code",
   "execution_count": 21,
   "metadata": {},
   "outputs": [
    {
     "name": "stdout",
     "output_type": "stream",
     "text": [
      "Number of papers outside 2009-2019: 114777\n",
      "Number of papers within 2009-2019: 159625\n"
     ]
    }
   ],
   "source": [
    "papers_out_of_range = [i for i, isInRange in enumerate(years.apply(lambda x: x < GLOBALS['start'] or x > GLOBALS['end'])) if isInRange]\n",
    "print('Number of papers outside 2009-2019: ' + str(len(papers_out_of_range)))\n",
    "print('Number of papers within 2009-2019: ' + str(len(metadata) - len(papers_out_of_range)))"
   ]
  },
  {
   "cell_type": "markdown",
   "metadata": {},
   "source": [
    "We will build our corpus with the 159,625 papers that have astrophysics subcategories.\n",
    "\n",
    "Mark these papers as being in range in the metadata."
   ]
  },
  {
   "cell_type": "code",
   "execution_count": 46,
   "metadata": {},
   "outputs": [],
   "source": [
    "metadata['in_range'] = years.apply(lambda x: x >= GLOBALS['start'] and x <= GLOBALS['end'])\n",
    "metadata.to_csv(GLOBALS['absolute_filepaths']['metadata'], index=False)"
   ]
  },
  {
   "cell_type": "markdown",
   "metadata": {},
   "source": [
    "Notes:\n",
    "- Although we do not pay attention to this in our selection process/evaluation approach, each paper also has a primary category, and this category may not necessarily be an astrophysics subcategory or even the general astrophysics category. According to according to the (docs)[https://arxiv.org/help/arxiv_identifier_for_services], the secondary categories are in alphabetical order, whereas the primary category is the first category listed. "
   ]
  },
  {
   "cell_type": "markdown",
   "metadata": {},
   "source": [
    "## 3. Filter papers based on fulltext conversion results"
   ]
  },
  {
   "cell_type": "code",
   "execution_count": 3,
   "metadata": {},
   "outputs": [],
   "source": [
    "metadata = pd.read_csv(GLOBALS['absolute_filepaths']['metadata'],\n",
    "                       dtype={'filename': str,\n",
    "                              'filename_parsed': str,\n",
    "                              'identifier': str,\n",
    "                              'updated': str,\n",
    "                              'doi': str,\n",
    "                              'in_range': bool, # FROM THIS NOTEBOOK, PART 2\n",
    "                              'has_xml': bool}, # FROM EXTRACT_AND_CONVERT_PAPERS.IPYNB \n",
    "                       parse_dates=['date_retrieved'])"
   ]
  },
  {
   "cell_type": "code",
   "execution_count": 5,
   "metadata": {},
   "outputs": [],
   "source": [
    "corpus = metadata[metadata['has_xml'] & metadata['in_range']]"
   ]
  },
  {
   "cell_type": "code",
   "execution_count": 1,
   "metadata": {},
   "outputs": [
    {
     "ename": "NameError",
     "evalue": "name 'corpus' is not defined",
     "output_type": "error",
     "traceback": [
      "\u001b[0;31m---------------------------------------------------------------------------\u001b[0m",
      "\u001b[0;31mNameError\u001b[0m                                 Traceback (most recent call last)",
      "\u001b[0;32m<ipython-input-1-5ff24a8e886f>\u001b[0m in \u001b[0;36m<module>\u001b[0;34m\u001b[0m\n\u001b[0;32m----> 1\u001b[0;31m \u001b[0mcorpus\u001b[0m\u001b[0;34m[\u001b[0m\u001b[0;36m0\u001b[0m\u001b[0;34m]\u001b[0m\u001b[0;34m\u001b[0m\u001b[0m\n\u001b[0m",
      "\u001b[0;31mNameError\u001b[0m: name 'corpus' is not defined"
     ]
    }
   ],
   "source": [
    "corpus[[0]"
   ]
  },
  {
   "cell_type": "markdown",
   "metadata": {},
   "source": [
    "Corpus contains 145,437 papers. "
   ]
  }
 ],
 "metadata": {
  "kernelspec": {
   "display_name": "Python 3",
   "language": "python",
   "name": "python3"
  },
  "language_info": {
   "codemirror_mode": {
    "name": "ipython",
    "version": 3
   },
   "file_extension": ".py",
   "mimetype": "text/x-python",
   "name": "python",
   "nbconvert_exporter": "python",
   "pygments_lexer": "ipython3",
   "version": "3.6.5"
  }
 },
 "nbformat": 4,
 "nbformat_minor": 4
}
