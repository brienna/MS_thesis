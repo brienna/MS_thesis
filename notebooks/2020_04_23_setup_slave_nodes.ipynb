{
 "cells": [
  {
   "cell_type": "code",
   "execution_count": null,
   "metadata": {},
   "outputs": [],
   "source": []
  },
  {
   "cell_type": "code",
   "execution_count": 1,
   "metadata": {},
   "outputs": [],
   "source": [
    "import pandas as pd"
   ]
  },
  {
   "cell_type": "markdown",
   "metadata": {},
   "source": [
    "Open metadata."
   ]
  },
  {
   "cell_type": "code",
   "execution_count": 2,
   "metadata": {
    "scrolled": true
   },
   "outputs": [
    {
     "name": "stderr",
     "output_type": "stream",
     "text": [
      "/Users/briennakh/anaconda3/lib/python3.6/site-packages/IPython/core/interactiveshell.py:3063: DtypeWarning: Columns (1) have mixed types. Specify dtype option on import or set low_memory=False.\n",
      "  interactivity=interactivity, compiler=compiler, result=result)\n"
     ]
    },
    {
     "data": {
      "text/html": [
       "<div>\n",
       "<style scoped>\n",
       "    .dataframe tbody tr th:only-of-type {\n",
       "        vertical-align: middle;\n",
       "    }\n",
       "\n",
       "    .dataframe tbody tr th {\n",
       "        vertical-align: top;\n",
       "    }\n",
       "\n",
       "    .dataframe thead th {\n",
       "        text-align: right;\n",
       "    }\n",
       "</style>\n",
       "<table border=\"1\" class=\"dataframe\">\n",
       "  <thead>\n",
       "    <tr style=\"text-align: right;\">\n",
       "      <th></th>\n",
       "      <th>identifier</th>\n",
       "      <th>filename</th>\n",
       "      <th>spec</th>\n",
       "      <th>title</th>\n",
       "      <th>datestamp</th>\n",
       "      <th>created</th>\n",
       "      <th>updated</th>\n",
       "      <th>authors</th>\n",
       "      <th>categories</th>\n",
       "      <th>journal</th>\n",
       "      <th>doi</th>\n",
       "      <th>abstract</th>\n",
       "      <th>comments</th>\n",
       "      <th>date_retrieved</th>\n",
       "      <th>filename_parsed</th>\n",
       "    </tr>\n",
       "  </thead>\n",
       "  <tbody>\n",
       "    <tr>\n",
       "      <td>0</td>\n",
       "      <td>oai:arXiv.org:0704.0009</td>\n",
       "      <td>704.001</td>\n",
       "      <td>physics:astro-ph</td>\n",
       "      <td>The Spitzer c2d Survey of Large, Nearby, Inste...</td>\n",
       "      <td>2010-03-18</td>\n",
       "      <td>2007-04-02</td>\n",
       "      <td>NaN</td>\n",
       "      <td>Paul Harvey, Bruno Merin, Tracy L. Huard, Luis...</td>\n",
       "      <td>astro-ph</td>\n",
       "      <td>Astrophys.J.663:1149-1173,2007</td>\n",
       "      <td>10.1086/518646</td>\n",
       "      <td>We discuss the results from the combined IRA...</td>\n",
       "      <td>NaN</td>\n",
       "      <td>2020-03-07 02:10:36.300743</td>\n",
       "      <td>0704.0009</td>\n",
       "    </tr>\n",
       "    <tr>\n",
       "      <td>1</td>\n",
       "      <td>oai:arXiv.org:0704.0017</td>\n",
       "      <td>704.002</td>\n",
       "      <td>physics:astro-ph</td>\n",
       "      <td>Spectroscopic Observations of the Intermediate...</td>\n",
       "      <td>2009-06-23</td>\n",
       "      <td>2007-03-31</td>\n",
       "      <td>NaN</td>\n",
       "      <td>Nceba Mhlahlo, David H. Buckley, Vikram S. Dhi...</td>\n",
       "      <td>astro-ph</td>\n",
       "      <td>Mon.Not.Roy.Astron.Soc.378:211-220,2007</td>\n",
       "      <td>10.1111/j.1365-2966.2007.11762.x</td>\n",
       "      <td>Results from spectroscopic observations of t...</td>\n",
       "      <td>NaN</td>\n",
       "      <td>2020-03-07 02:10:36.300743</td>\n",
       "      <td>0704.0017</td>\n",
       "    </tr>\n",
       "    <tr>\n",
       "      <td>2</td>\n",
       "      <td>oai:arXiv.org:0704.0023</td>\n",
       "      <td>704.002</td>\n",
       "      <td>physics:astro-ph</td>\n",
       "      <td>ALMA as the ideal probe of the solar chromosphere</td>\n",
       "      <td>2009-06-23</td>\n",
       "      <td>2007-03-31</td>\n",
       "      <td>NaN</td>\n",
       "      <td>M. A. Loukitcheva, S. K. Solanki, S. White</td>\n",
       "      <td>astro-ph</td>\n",
       "      <td>Astrophys.Space Sci.313:197-200,2008</td>\n",
       "      <td>10.1007/s10509-007-9626-1</td>\n",
       "      <td>The very nature of the solar chromosphere, i...</td>\n",
       "      <td>NaN</td>\n",
       "      <td>2020-03-07 02:10:36.300743</td>\n",
       "      <td>0704.0023</td>\n",
       "    </tr>\n",
       "    <tr>\n",
       "      <td>3</td>\n",
       "      <td>oai:arXiv.org:0704.0044</td>\n",
       "      <td>704.004</td>\n",
       "      <td>physics:astro-ph</td>\n",
       "      <td>Astrophysical gyrokinetics: kinetic and fluid ...</td>\n",
       "      <td>2015-05-13</td>\n",
       "      <td>2007-03-31</td>\n",
       "      <td>2009-05-09</td>\n",
       "      <td>A. A. Schekochihin, S. C. Cowley, W. Dorland, ...</td>\n",
       "      <td>astro-ph nlin.CD physics.plasm-ph physics.spac...</td>\n",
       "      <td>ApJS 182, 310 (2009)</td>\n",
       "      <td>10.1088/0067-0049/182/1/310</td>\n",
       "      <td>We present a theoretical framework for plasm...</td>\n",
       "      <td>NaN</td>\n",
       "      <td>2020-03-07 02:10:36.300743</td>\n",
       "      <td>0704.0044</td>\n",
       "    </tr>\n",
       "    <tr>\n",
       "      <td>4</td>\n",
       "      <td>oai:arXiv.org:0704.0048</td>\n",
       "      <td>704.005</td>\n",
       "      <td>physics:astro-ph</td>\n",
       "      <td>Inference on white dwarf binary systems using ...</td>\n",
       "      <td>2008-11-26</td>\n",
       "      <td>2007-03-31</td>\n",
       "      <td>2007-04-03</td>\n",
       "      <td>Alexander Stroeer, John Veitch, Christian Roev...</td>\n",
       "      <td>gr-qc astro-ph</td>\n",
       "      <td>Class.Quant.Grav.24:S541-S550,2007</td>\n",
       "      <td>10.1088/0264-9381/24/19/S17</td>\n",
       "      <td>We report on the analysis of selected single...</td>\n",
       "      <td>NaN</td>\n",
       "      <td>2020-03-07 02:10:36.300743</td>\n",
       "      <td>0704.0048</td>\n",
       "    </tr>\n",
       "    <tr>\n",
       "      <td>...</td>\n",
       "      <td>...</td>\n",
       "      <td>...</td>\n",
       "      <td>...</td>\n",
       "      <td>...</td>\n",
       "      <td>...</td>\n",
       "      <td>...</td>\n",
       "      <td>...</td>\n",
       "      <td>...</td>\n",
       "      <td>...</td>\n",
       "      <td>...</td>\n",
       "      <td>...</td>\n",
       "      <td>...</td>\n",
       "      <td>...</td>\n",
       "      <td>...</td>\n",
       "      <td>...</td>\n",
       "    </tr>\n",
       "    <tr>\n",
       "      <td>267789</td>\n",
       "      <td>oai:arXiv.org:quant-ph/9903043</td>\n",
       "      <td>quant-ph/9903043</td>\n",
       "      <td>physics:astro-ph</td>\n",
       "      <td>A Possible Anisotropy in Blackbody Radiation V...</td>\n",
       "      <td>2007-05-23</td>\n",
       "      <td>1999-03-12</td>\n",
       "      <td>1999-06-07</td>\n",
       "      <td>T K Rai Dastidar</td>\n",
       "      <td>quant-ph astro-ph hep-th</td>\n",
       "      <td>Mod.Phys.Lett. A14 (1999) 1193-1198</td>\n",
       "      <td>NaN</td>\n",
       "      <td>A non-local gauge symmetry of a complex scal...</td>\n",
       "      <td>NaN</td>\n",
       "      <td>2020-03-07 02:10:36.300743</td>\n",
       "      <td>quant-ph9903043</td>\n",
       "    </tr>\n",
       "    <tr>\n",
       "      <td>267790</td>\n",
       "      <td>oai:arXiv.org:quant-ph/9903053</td>\n",
       "      <td>quant-ph/9903053</td>\n",
       "      <td>physics:astro-ph</td>\n",
       "      <td>Father Time. I. Does the Cosmic Microwave Back...</td>\n",
       "      <td>2009-10-31</td>\n",
       "      <td>1999-03-15</td>\n",
       "      <td>1999-10-21</td>\n",
       "      <td>T K Rai Dastidar</td>\n",
       "      <td>quant-ph astro-ph hep-th</td>\n",
       "      <td>Mod.Phys.Lett. A14 (1999) 2499-2505</td>\n",
       "      <td>10.1142/S0217732399002601</td>\n",
       "      <td>The existence of a non-thermodynamic arrow o...</td>\n",
       "      <td>NaN</td>\n",
       "      <td>2020-03-07 02:10:36.300743</td>\n",
       "      <td>quant-ph9903053</td>\n",
       "    </tr>\n",
       "    <tr>\n",
       "      <td>267791</td>\n",
       "      <td>oai:arXiv.org:quant-ph/9907088</td>\n",
       "      <td>quant-ph/9907088</td>\n",
       "      <td>physics:astro-ph</td>\n",
       "      <td>On Bures fidelity of displaced squeezed therma...</td>\n",
       "      <td>2008-12-18</td>\n",
       "      <td>1999-07-27</td>\n",
       "      <td>NaN</td>\n",
       "      <td>Xiang-Bin Wang, C. H. Oh, L. C. Kwek</td>\n",
       "      <td>quant-ph astro-ph</td>\n",
       "      <td>Phys.Rev.A58:4186,1998</td>\n",
       "      <td>10.1103/PhysRevA.58.4186</td>\n",
       "      <td>Fidelity plays a key role in quantum informa...</td>\n",
       "      <td>NaN</td>\n",
       "      <td>2020-03-07 02:10:36.300743</td>\n",
       "      <td>quant-ph9907088</td>\n",
       "    </tr>\n",
       "    <tr>\n",
       "      <td>267792</td>\n",
       "      <td>oai:arXiv.org:solv-int/9404002</td>\n",
       "      <td>solv-int/9404002</td>\n",
       "      <td>physics:astro-ph</td>\n",
       "      <td>Dynamical Systems Accepting the Normal Shift</td>\n",
       "      <td>2008-02-03</td>\n",
       "      <td>1993-04-07</td>\n",
       "      <td>NaN</td>\n",
       "      <td>R. A. Sharipov</td>\n",
       "      <td>solv-int alg-geom astro-ph gr-qc hep-th math.A...</td>\n",
       "      <td>NaN</td>\n",
       "      <td>NaN</td>\n",
       "      <td>Newtonian dynamical systems accepting the no...</td>\n",
       "      <td>NaN</td>\n",
       "      <td>2020-03-07 02:10:36.300743</td>\n",
       "      <td>solv-int9404002</td>\n",
       "    </tr>\n",
       "    <tr>\n",
       "      <td>267793</td>\n",
       "      <td>oai:arXiv.org:solv-int/9411005</td>\n",
       "      <td>solv-int/9411005</td>\n",
       "      <td>physics:astro-ph</td>\n",
       "      <td>Limits to Extensions of Burgers Equation</td>\n",
       "      <td>2008-02-03</td>\n",
       "      <td>1994-11-17</td>\n",
       "      <td>NaN</td>\n",
       "      <td>Steven Nerney, Edward J. Schmahl, Z. E. Musielak</td>\n",
       "      <td>solv-int astro-ph chao-dyn comp-gas nlin.CD nl...</td>\n",
       "      <td>NaN</td>\n",
       "      <td>NaN</td>\n",
       "      <td>The vector Burgers equation is extended to i...</td>\n",
       "      <td>NaN</td>\n",
       "      <td>2020-03-07 02:10:36.300743</td>\n",
       "      <td>solv-int9411005</td>\n",
       "    </tr>\n",
       "  </tbody>\n",
       "</table>\n",
       "<p>267794 rows × 15 columns</p>\n",
       "</div>"
      ],
      "text/plain": [
       "                            identifier          filename              spec  \\\n",
       "0              oai:arXiv.org:0704.0009           704.001  physics:astro-ph   \n",
       "1              oai:arXiv.org:0704.0017           704.002  physics:astro-ph   \n",
       "2              oai:arXiv.org:0704.0023           704.002  physics:astro-ph   \n",
       "3              oai:arXiv.org:0704.0044           704.004  physics:astro-ph   \n",
       "4              oai:arXiv.org:0704.0048           704.005  physics:astro-ph   \n",
       "...                                ...               ...               ...   \n",
       "267789  oai:arXiv.org:quant-ph/9903043  quant-ph/9903043  physics:astro-ph   \n",
       "267790  oai:arXiv.org:quant-ph/9903053  quant-ph/9903053  physics:astro-ph   \n",
       "267791  oai:arXiv.org:quant-ph/9907088  quant-ph/9907088  physics:astro-ph   \n",
       "267792  oai:arXiv.org:solv-int/9404002  solv-int/9404002  physics:astro-ph   \n",
       "267793  oai:arXiv.org:solv-int/9411005  solv-int/9411005  physics:astro-ph   \n",
       "\n",
       "                                                    title   datestamp  \\\n",
       "0       The Spitzer c2d Survey of Large, Nearby, Inste...  2010-03-18   \n",
       "1       Spectroscopic Observations of the Intermediate...  2009-06-23   \n",
       "2       ALMA as the ideal probe of the solar chromosphere  2009-06-23   \n",
       "3       Astrophysical gyrokinetics: kinetic and fluid ...  2015-05-13   \n",
       "4       Inference on white dwarf binary systems using ...  2008-11-26   \n",
       "...                                                   ...         ...   \n",
       "267789  A Possible Anisotropy in Blackbody Radiation V...  2007-05-23   \n",
       "267790  Father Time. I. Does the Cosmic Microwave Back...  2009-10-31   \n",
       "267791  On Bures fidelity of displaced squeezed therma...  2008-12-18   \n",
       "267792       Dynamical Systems Accepting the Normal Shift  2008-02-03   \n",
       "267793           Limits to Extensions of Burgers Equation  2008-02-03   \n",
       "\n",
       "           created     updated  \\\n",
       "0       2007-04-02         NaN   \n",
       "1       2007-03-31         NaN   \n",
       "2       2007-03-31         NaN   \n",
       "3       2007-03-31  2009-05-09   \n",
       "4       2007-03-31  2007-04-03   \n",
       "...            ...         ...   \n",
       "267789  1999-03-12  1999-06-07   \n",
       "267790  1999-03-15  1999-10-21   \n",
       "267791  1999-07-27         NaN   \n",
       "267792  1993-04-07         NaN   \n",
       "267793  1994-11-17         NaN   \n",
       "\n",
       "                                                  authors  \\\n",
       "0       Paul Harvey, Bruno Merin, Tracy L. Huard, Luis...   \n",
       "1       Nceba Mhlahlo, David H. Buckley, Vikram S. Dhi...   \n",
       "2              M. A. Loukitcheva, S. K. Solanki, S. White   \n",
       "3       A. A. Schekochihin, S. C. Cowley, W. Dorland, ...   \n",
       "4       Alexander Stroeer, John Veitch, Christian Roev...   \n",
       "...                                                   ...   \n",
       "267789                                   T K Rai Dastidar   \n",
       "267790                                   T K Rai Dastidar   \n",
       "267791               Xiang-Bin Wang, C. H. Oh, L. C. Kwek   \n",
       "267792                                     R. A. Sharipov   \n",
       "267793   Steven Nerney, Edward J. Schmahl, Z. E. Musielak   \n",
       "\n",
       "                                               categories  \\\n",
       "0                                                astro-ph   \n",
       "1                                                astro-ph   \n",
       "2                                                astro-ph   \n",
       "3       astro-ph nlin.CD physics.plasm-ph physics.spac...   \n",
       "4                                          gr-qc astro-ph   \n",
       "...                                                   ...   \n",
       "267789                           quant-ph astro-ph hep-th   \n",
       "267790                           quant-ph astro-ph hep-th   \n",
       "267791                                  quant-ph astro-ph   \n",
       "267792  solv-int alg-geom astro-ph gr-qc hep-th math.A...   \n",
       "267793  solv-int astro-ph chao-dyn comp-gas nlin.CD nl...   \n",
       "\n",
       "                                        journal  \\\n",
       "0                Astrophys.J.663:1149-1173,2007   \n",
       "1       Mon.Not.Roy.Astron.Soc.378:211-220,2007   \n",
       "2          Astrophys.Space Sci.313:197-200,2008   \n",
       "3                          ApJS 182, 310 (2009)   \n",
       "4            Class.Quant.Grav.24:S541-S550,2007   \n",
       "...                                         ...   \n",
       "267789      Mod.Phys.Lett. A14 (1999) 1193-1198   \n",
       "267790      Mod.Phys.Lett. A14 (1999) 2499-2505   \n",
       "267791                   Phys.Rev.A58:4186,1998   \n",
       "267792                                      NaN   \n",
       "267793                                      NaN   \n",
       "\n",
       "                                     doi  \\\n",
       "0                         10.1086/518646   \n",
       "1       10.1111/j.1365-2966.2007.11762.x   \n",
       "2              10.1007/s10509-007-9626-1   \n",
       "3            10.1088/0067-0049/182/1/310   \n",
       "4            10.1088/0264-9381/24/19/S17   \n",
       "...                                  ...   \n",
       "267789                               NaN   \n",
       "267790         10.1142/S0217732399002601   \n",
       "267791          10.1103/PhysRevA.58.4186   \n",
       "267792                               NaN   \n",
       "267793                               NaN   \n",
       "\n",
       "                                                 abstract  comments  \\\n",
       "0         We discuss the results from the combined IRA...       NaN   \n",
       "1         Results from spectroscopic observations of t...       NaN   \n",
       "2         The very nature of the solar chromosphere, i...       NaN   \n",
       "3         We present a theoretical framework for plasm...       NaN   \n",
       "4         We report on the analysis of selected single...       NaN   \n",
       "...                                                   ...       ...   \n",
       "267789    A non-local gauge symmetry of a complex scal...       NaN   \n",
       "267790    The existence of a non-thermodynamic arrow o...       NaN   \n",
       "267791    Fidelity plays a key role in quantum informa...       NaN   \n",
       "267792    Newtonian dynamical systems accepting the no...       NaN   \n",
       "267793    The vector Burgers equation is extended to i...       NaN   \n",
       "\n",
       "                    date_retrieved  filename_parsed  \n",
       "0       2020-03-07 02:10:36.300743        0704.0009  \n",
       "1       2020-03-07 02:10:36.300743        0704.0017  \n",
       "2       2020-03-07 02:10:36.300743        0704.0023  \n",
       "3       2020-03-07 02:10:36.300743        0704.0044  \n",
       "4       2020-03-07 02:10:36.300743        0704.0048  \n",
       "...                            ...              ...  \n",
       "267789  2020-03-07 02:10:36.300743  quant-ph9903043  \n",
       "267790  2020-03-07 02:10:36.300743  quant-ph9903053  \n",
       "267791  2020-03-07 02:10:36.300743  quant-ph9907088  \n",
       "267792  2020-03-07 02:10:36.300743  solv-int9404002  \n",
       "267793  2020-03-07 02:10:36.300743  solv-int9411005  \n",
       "\n",
       "[267794 rows x 15 columns]"
      ]
     },
     "execution_count": 2,
     "metadata": {},
     "output_type": "execute_result"
    }
   ],
   "source": [
    "metadata_df = pd.read_csv('../data/2020_03_06_arxiv_metadata_astroph/arxiv_metadata_astroph.csv', \n",
    "                         dtype={'filename_parsed': str})\n",
    "metadata_df"
   ]
  },
  {
   "cell_type": "markdown",
   "metadata": {},
   "source": [
    "Parameters to change:\n",
    "\n",
    "- `window` — size of the sliding window used to parse texts\n",
    "- `alpha` — initial learning rate of the network\n",
    "- `sample` — allows the model to reduce the importance given to high-frequency words\n",
    "- `dm` — training algorithm (PV-DM or PV-DBOW)\n",
    "- `hs` — whether hierarchical softmax or negative sampling is used during training\n",
    "- `dimensions` "
   ]
  },
  {
   "cell_type": "markdown",
   "metadata": {},
   "source": [
    "Default values:\n",
    "- `window_size` — 5\n",
    "- `alpha` — \n",
    "- `sample` – \n",
    "- `dm` – 1 (PV-DM)\n",
    "- `hs` – \n",
    "\n",
    "Possible values: "
   ]
  },
  {
   "cell_type": "markdown",
   "metadata": {},
   "source": [
    "Set up values of possible parameters."
   ]
  },
  {
   "cell_type": "code",
   "execution_count": null,
   "metadata": {},
   "outputs": [],
   "source": []
  },
  {
   "cell_type": "markdown",
   "metadata": {},
   "source": [
    "Write the script that will go into the bash script."
   ]
  },
  {
   "cell_type": "code",
   "execution_count": 124,
   "metadata": {},
   "outputs": [],
   "source": [
    "import pandas as pd\n",
    "from gensim.models.doc2vec import Doc2Vec, TaggedDocument\n",
    "import nltk\n",
    "import matplotlib.pyplot as plt\n",
    "import numpy as np\n",
    "import scipy"
   ]
  },
  {
   "cell_type": "markdown",
   "metadata": {},
   "source": [
    "Find each paper's author-assigned subcategory. If the paper has none, remove it from the data. "
   ]
  },
  {
   "cell_type": "code",
   "execution_count": 63,
   "metadata": {},
   "outputs": [
    {
     "name": "stderr",
     "output_type": "stream",
     "text": [
      "/Users/briennakh/anaconda3/lib/python3.6/site-packages/IPython/core/interactiveshell.py:3063: DtypeWarning: Columns (1,14) have mixed types. Specify dtype option on import or set low_memory=False.\n",
      "  interactivity=interactivity, compiler=compiler, result=result)\n"
     ]
    },
    {
     "name": "stdout",
     "output_type": "stream",
     "text": [
      "Total number of papers: 267794\n",
      "We are keeping only papers that have been labeled with any of the following 6 subdomains:\n",
      "['Solar and Stellar Astrophysics', 'Cosmology and Nongalactic Astrophysics', 'Astrophysics of Galaxies', 'High Energy Astrophysical Phenomena', 'Earth and Planetary Astrophysics', 'Instrumentation and Methods for Astrophysics']\n",
      "Number of papers dropped: 105283\n",
      "Number of papers left: 162511\n"
     ]
    }
   ],
   "source": [
    "metadata = pd.read_csv('../data/2020_03_06_arxiv_metadata_astroph/arxiv_metadata_astroph.csv')\n",
    "print('Total number of papers: ' + str(len(metadata)))\n",
    "\n",
    "# Specify the subdomains we want to target \n",
    "subdomains = ['astro-ph.SR',\n",
    "              'astro-ph.CO',\n",
    "              'astro-ph.GA',\n",
    "              'astro-ph.HE',\n",
    "              'astro-ph.EP',\n",
    "              'astro-ph.IM']\n",
    "subdomain_names = ['Solar and Stellar Astrophysics',\n",
    "                   'Cosmology and Nongalactic Astrophysics',\n",
    "                   'Astrophysics of Galaxies',\n",
    "                   'High Energy Astrophysical Phenomena',\n",
    "                   'Earth and Planetary Astrophysics',\n",
    "                   'Instrumentation and Methods for Astrophysics']\n",
    "\n",
    "print('We are keeping only papers that have been labeled with any of the following ' \n",
    "      + str(len(subdomains)) + ' subdomains:\\n' + str(subdomain_names))\n",
    "\n",
    "labels = metadata['categories'].str.split(' ')        # Get all labels for each paper\n",
    "subdomain_labels = []     \n",
    "papers_to_drop = []\n",
    "\n",
    "for i, _ in enumerate(labels):                         # For each paper,\n",
    "    temp = []                                          # create a temporary list of subdomain labels and\n",
    "    has_subdomain_label = False                        # state that the paper has no subdomain labels yet\n",
    "    for j,_ in enumerate(labels[i]):                   # For each of the paper's labels,\n",
    "        if labels[i][j] in subdomains:                 # if the paper has a subdomain label\n",
    "            temp.append(labels[i][j])                  # add the subdomain label to that paper's subdomain labels list\n",
    "            has_subdomain_label = True                 # and mark that the paper has at least one subdomain label\n",
    "            \n",
    "        if j == (len(labels[i]) - 1):                  # When done looking at the last label for that paper,\n",
    "            if not has_subdomain_label:                # if that paper had no subdomain labels,\n",
    "                papers_to_drop.append(i)               # mark it to be dropped\n",
    "            else:                \n",
    "                subdomain_labels.append(temp)          # otherwise add its subdomain labels to the master list\n",
    "                \n",
    "metadata_filtered = metadata.drop(papers_to_drop)\n",
    "metadata_filtered['subdomains'] = subdomain_labels\n",
    "print('Number of papers dropped: ' + str(len(papers_to_drop)))\n",
    "print('Number of papers left: ' + str(len(metadata_filtered)))"
   ]
  },
  {
   "cell_type": "code",
   "execution_count": 208,
   "metadata": {},
   "outputs": [
    {
     "data": {
      "text/plain": [
       "astro-ph.CO    50049\n",
       "astro-ph.SR    41790\n",
       "astro-ph.GA    40221\n",
       "astro-ph.HE    37018\n",
       "astro-ph.EP    17766\n",
       "astro-ph.IM    17246\n",
       "dtype: int64"
      ]
     },
     "execution_count": 208,
     "metadata": {},
     "output_type": "execute_result"
    }
   ],
   "source": [
    "subdomain_distribution = pd.Series([item for sublist in metadata_filtered['subdomains'] for item in sublist]).value_counts()\n",
    "subdomain_distribution"
   ]
  },
  {
   "cell_type": "code",
   "execution_count": 215,
   "metadata": {},
   "outputs": [
    {
     "data": {
      "image/png": "[encoded data removed]",
      "text/plain": [
       "<Figure size 1152x504 with 1 Axes>"
      ]
     },
     "metadata": {
      "needs_background": "light"
     },
     "output_type": "display_data"
    }
   ],
   "source": [
    "plt.figure(figsize=(16,7))\n",
    "plt.bar(subdomain_distribution.keys(), subdomain_distribution.values, color='lightgray')\n",
    "plt.title('Number of papers in each subdomain', fontdict=dict(size=22))\n",
    "plt.show()"
   ]
  },
  {
   "cell_type": "markdown",
   "metadata": {},
   "source": [
    "**Visualize how the distributions may have changed.**\n",
    "\n",
    "Distribution of abstract word counts. \n",
    "\n",
    "We can see that the most common length of abstracts is 250 words which makes sense given the 250-word limit that journals often have.\n",
    "\n",
    "*WILL DO THIS FOR FULL TEXTS TOO.*"
   ]
  },
  {
   "cell_type": "code",
   "execution_count": 145,
   "metadata": {},
   "outputs": [],
   "source": [
    "abstracts = [abstract.replace('\\n', ' ').strip() for abstract in metadata['abstract']]\n",
    "abstracts_word_count = [len(abstract.split(' ')) for abstract in abstracts]\n",
    "abstracts_filtered_word_count = list(pd.Series(abstracts_word_count).drop(papers_to_drop))"
   ]
  },
  {
   "cell_type": "markdown",
   "metadata": {},
   "source": [
    "How to decide optimal number of bins? https://stats.stackexchange.com/questions/798/calculating-optimal-number-of-bins-in-a-histogram\n",
    "\n",
    "One solution is to create a graph that shows every value. Either a dot plot, or a cumulative frequency distribution, which doesn't require any bins. *This took too long to plot.*\n",
    "\n",
    "If you use too few bins, the histogram doesn't really portray the data very well. If you have too many bins, you get a broken comb look, which also doesn't give a sense of the distribution. The simplest method is to set the number of bins equal to the square root of the number of values you are binning.\n",
    "\n",
    "I just ended up eyeing it. "
   ]
  },
  {
   "cell_type": "code",
   "execution_count": 177,
   "metadata": {},
   "outputs": [
    {
     "data": {
      "image/png": "[encoded data removed]",
      "text/plain": [
       "<Figure size 1152x504 with 1 Axes>"
      ]
     },
     "metadata": {
      "needs_background": "light"
     },
     "output_type": "display_data"
    }
   ],
   "source": [
    "plt.figure(figsize=(16,7))\n",
    "plt.hist(abstracts_word_count, bins=300, color='lightgray', alpha=0.5)\n",
    "plt.text(400, 3500, \"Mean: \" + str(round(np.mean(abstracts_word_count))), size=14)\n",
    "plt.text(400, 3200, \"Median: \" + str(int(round(np.median(abstracts_word_count)))), size=14)\n",
    "plt.text(400, 2900, \"Stdev: \" + str(round(np.std(abstracts_word_count))), size=14)\n",
    "plt.text(400, 2600, \"Min: \" + str(round(np.min(abstracts_word_count))), size=14)\n",
    "plt.text(400, 2300, \"Max: \" + str(round(np.max(abstracts_word_count))), size=14)\n",
    "plt.text(400, 2000, \"Mode: \" + str(scipy.stats.mode(abstracts_word_count)[0][0]), size=14)\n",
    "plt.gca().set(ylabel='Number of Abstracts', xlabel='Word Count')\n",
    "plt.title('Distribution of Abstract Word Counts', fontdict=dict(size=22))\n",
    "plt.rc('xtick',labelsize=16)\n",
    "plt.rc('axes',labelsize=16)\n",
    "plt.rc('ytick',labelsize=16)\n",
    "\n",
    "plt.hist(abstracts_filtered_word_count, bins=300, color='darkgray', alpha=0.5)\n",
    "plt.text(40, 3500, str(round(np.mean(abstracts_filtered_word_count))), size=14, color='darkgray')\n",
    "plt.text(450, 3200, str(int(round(np.median(abstracts_filtered_word_count)))), size=14, color='darkgray')\n",
    "plt.text(450, 2900, str(round(np.std(abstracts_filtered_word_count))), size=14, color='darkgray')\n",
    "plt.text(450, 2600, str(round(np.min(abstracts_filtered_word_count))), size=14, color='darkgray')\n",
    "plt.text(450, 2300, str(round(np.max(abstracts_filtered_word_count))), size=14, color='darkgray')\n",
    "plt.text(450, 2000, str(scipy.stats.mode(abstracts_filtered_word_count)[0][0]), size=14, color='darkgray')\n",
    "\n",
    "plt.show()"
   ]
  },
  {
   "cell_type": "markdown",
   "metadata": {},
   "source": [
    "Distribution of years. "
   ]
  },
  {
   "cell_type": "code",
   "execution_count": 216,
   "metadata": {},
   "outputs": [],
   "source": [
    "years = pd.to_datetime(metadata['created']).apply(lambda x: x.year)\n",
    "years_filtered = years.drop(papers_to_drop)"
   ]
  },
  {
   "cell_type": "code",
   "execution_count": 224,
   "metadata": {},
   "outputs": [],
   "source": [
    "years_count = years.value_counts()\n",
    "years_filtered_count = years_filtered.value_counts()"
   ]
  },
  {
   "cell_type": "code",
   "execution_count": 225,
   "metadata": {
    "scrolled": true
   },
   "outputs": [
    {
     "data": {
      "text/plain": [
       "2019    16579\n",
       "2018    15944\n",
       "2016    15176\n",
       "2017    15133\n",
       "2015    14938\n",
       "2014    14555\n",
       "2013    14238\n",
       "2012    13808\n",
       "2011    13642\n",
       "2010    13114\n",
       "2009    12489\n",
       "2008    11357\n",
       "2007    11346\n",
       "2006    10382\n",
       "2005     9795\n",
       "2004     9256\n",
       "2003     8833\n",
       "2002     7848\n",
       "2001     7598\n",
       "2000     7028\n",
       "1999     6238\n",
       "1998     5315\n",
       "1997     3917\n",
       "2020     2707\n",
       "1996     2687\n",
       "1995     1911\n",
       "1994     1222\n",
       "1993      617\n",
       "1992      121\n",
       "Name: created, dtype: int64"
      ]
     },
     "execution_count": 225,
     "metadata": {},
     "output_type": "execute_result"
    }
   ],
   "source": [
    "years_count"
   ]
  },
  {
   "cell_type": "code",
   "execution_count": 226,
   "metadata": {},
   "outputs": [
    {
     "data": {
      "text/plain": [
       "2019    16579\n",
       "2018    15944\n",
       "2016    15176\n",
       "2017    15133\n",
       "2015    14938\n",
       "2014    14555\n",
       "2013    14238\n",
       "2012    13808\n",
       "2011    13642\n",
       "2010    13114\n",
       "2009    12489\n",
       "2020     2707\n",
       "2008      105\n",
       "2007       31\n",
       "2006       15\n",
       "2005       14\n",
       "2004        8\n",
       "2003        6\n",
       "1998        3\n",
       "1999        2\n",
       "2002        1\n",
       "2000        1\n",
       "1997        1\n",
       "1996        1\n",
       "Name: created, dtype: int64"
      ]
     },
     "execution_count": 226,
     "metadata": {},
     "output_type": "execute_result"
    }
   ],
   "source": [
    "years_filtered_count"
   ]
  },
  {
   "cell_type": "code",
   "execution_count": 228,
   "metadata": {},
   "outputs": [
    {
     "data": {
      "image/png": "[encoded data removed]",
      "text/plain": [
       "<Figure size 1152x504 with 1 Axes>"
      ]
     },
     "metadata": {
      "needs_background": "light"
     },
     "output_type": "display_data"
    }
   ],
   "source": [
    "plt.figure(figsize=(16,7))\n",
    "plt.bar(years_count.keys(), years_count.values, color='lightgray')\n",
    "plt.bar(years_filtered_count.keys(), years_filtered_count.values, color='darkgray')\n",
    "plt.show()"
   ]
  },
  {
   "cell_type": "markdown",
   "metadata": {},
   "source": [
    "Some stragglers in 2007, 2008, etc, but probably because their papers were revised 2009>. "
   ]
  },
  {
   "cell_type": "markdown",
   "metadata": {},
   "source": [
    "Distribution of "
   ]
  },
  {
   "cell_type": "code",
   "execution_count": null,
   "metadata": {},
   "outputs": [],
   "source": []
  },
  {
   "cell_type": "code",
   "execution_count": null,
   "metadata": {},
   "outputs": [],
   "source": []
  },
  {
   "cell_type": "markdown",
   "metadata": {},
   "source": [
    "Tokenize abstracts."
   ]
  },
  {
   "cell_type": "code",
   "execution_count": null,
   "metadata": {},
   "outputs": [],
   "source": [
    "train_corpus = [TaggedDocument(words=nltk.word_tokenize(_d.lower()), tags=[str(i)]) for i,_d in enumerate(abstracts)]"
   ]
  },
  {
   "cell_type": "code",
   "execution_count": null,
   "metadata": {},
   "outputs": [],
   "source": []
  }
 ],
 "metadata": {
  "kernelspec": {
   "display_name": "Python 3",
   "language": "python",
   "name": "python3"
  },
  "language_info": {
   "codemirror_mode": {
    "name": "ipython",
    "version": 3
   },
   "file_extension": ".py",
   "mimetype": "text/x-python",
   "name": "python",
   "nbconvert_exporter": "python",
   "pygments_lexer": "ipython3",
   "version": "3.6.5"
  }
 },
 "nbformat": 4,
 "nbformat_minor": 4
}
